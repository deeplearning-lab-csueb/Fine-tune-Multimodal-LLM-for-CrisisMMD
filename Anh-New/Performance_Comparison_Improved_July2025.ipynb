{
 "cells": [
  {
   "cell_type": "code",
   "execution_count": 29,
   "id": "04456625-4d52-4d85-a989-cd6801863933",
   "metadata": {},
   "outputs": [],
   "source": [
    "import pandas as pd\n",
    "from sklearn.metrics import accuracy_score, precision_score, recall_score, f1_score, classification_report\n",
    "from tabulate import tabulate\n",
    "from IPython.display import Markdown, display\n",
    "\n",
    "def calculate_metrics_for_models(model_results, task=\"\", tablefmt=\"grid\"):\n",
    "    \"\"\"\n",
    "    Given a list of tuples (model_name, file_path, row_color, section_break), compute and print classification metrics.\n",
    "\n",
    "    Parameters:\n",
    "    - model_results (list of tuples): Each tuple is (model_name, file_path, color, section_break).\n",
    "    - task (str): Title printed above the table.\n",
    "    - tablefmt (str): Style passed to tabulate (e.g., 'github', 'grid').\n",
    "    \"\"\"\n",
    "    COLORS = {\n",
    "        \"green\": \"\\033[92m\",\n",
    "        \"red\": \"\\033[91m\",\n",
    "        \"yellow\": \"\\033[93m\",\n",
    "        \"blue\": \"\\033[94m\",\n",
    "        \"magenta\": \"\\033[95m\",\n",
    "        \"cyan\": \"\\033[96m\",\n",
    "        \"white\": \"\\033[97m\",\n",
    "        None: \"\"\n",
    "    }\n",
    "    RESET = \"\\033[0m\"\n",
    "\n",
    "    table_rows = []\n",
    "\n",
    "    for model_name, file_path, color, section_break in model_results:\n",
    "        try:\n",
    "            df = pd.read_json(file_path)\n",
    "\n",
    "            if \"y_true\" not in df or \"y_pred\" not in df:\n",
    "                print(f\"Error: Missing 'y_true' or 'y_pred' in {file_path}\")\n",
    "                continue\n",
    "\n",
    "            y_true = df[\"y_true\"]\n",
    "            y_pred = df[\"y_pred\"]\n",
    "\n",
    "            \n",
    "            accuracy = round(accuracy_score(y_true, y_pred) * 100, 2)\n",
    "            precision = round(precision_score(y_true, y_pred, average=\"weighted\", zero_division=0) * 100, 2)\n",
    "            recall = round(recall_score(y_true, y_pred, average=\"weighted\") * 100, 2)\n",
    "            f1 = round(f1_score(y_true, y_pred, average=\"weighted\") * 100, 2)\n",
    "\n",
    "            #for debug\n",
    "            #from sklearn.metrics import classification_report\n",
    "            #print(classification_report(y_true, y_pred,digits=4))\n",
    "\n",
    "            row = [model_name, accuracy, precision, recall, f1]\n",
    "\n",
    "            # Apply color if specified\n",
    "            color_code = COLORS.get(color, color)\n",
    "            if color_code:\n",
    "                row = [f\"{color_code}{val}{RESET}\" for val in row]\n",
    "\n",
    "            table_rows.append(row)\n",
    "\n",
    "            # Insert a blank row if section_break is True\n",
    "            if section_break:\n",
    "                table_rows.append([\"\"] * len(row))\n",
    "\n",
    "        except Exception as e:\n",
    "            print(f\"Error processing {model_name} ({file_path}): {e}\")\n",
    "\n",
    "    headers = [\"Model\", \"Accuracy (%)\", \"Precision (%)\", \"Recall (%)\", \"F1 Score (%)\"]\n",
    "    print(f\"\\n📊 **{task} Performance Metrics**\\n\")\n",
    "    print(tabulate(table_rows, headers=headers, tablefmt=tablefmt))\n",
    "\n",
    "def calculate_metrics_per_category(model_results, task=\"\", tablefmt=\"grid\"):\n",
    "    \"\"\"\n",
    "    Given a list of tuples (model_name, file_path, row_color, section_break), compute and print per-category metrics.\n",
    "\n",
    "    Parameters:\n",
    "    - model_results (list of tuples): Each tuple is (model_name, file_path, color, section_break).\n",
    "    - task (str): Title printed above the table.\n",
    "    - tablefmt (str): Style passed to tabulate (e.g., 'github', 'grid').\n",
    "    \"\"\"\n",
    "    COLORS = {\n",
    "        \"green\": \"\\033[92m\",\n",
    "        \"red\": \"\\033[91m\",\n",
    "        \"yellow\": \"\\033[93m\",\n",
    "        \"blue\": \"\\033[94m\",\n",
    "        \"magenta\": \"\\033[95m\",\n",
    "        \"cyan\": \"\\033[96m\",\n",
    "        \"white\": \"\\033[97m\",\n",
    "        None: \"\"\n",
    "    }\n",
    "    RESET = \"\\033[0m\"\n",
    "\n",
    "    for model_name, file_path, color, section_break in model_results:\n",
    "        try:\n",
    "            df = pd.read_json(file_path)\n",
    "\n",
    "            if \"y_true\" not in df or \"y_pred\" not in df:\n",
    "                print(f\"Error: Missing 'y_true' or 'y_pred' in {file_path}\")\n",
    "                continue\n",
    "\n",
    "            y_true = df[\"y_true\"]\n",
    "            y_pred = df[\"y_pred\"]\n",
    "\n",
    "            report = classification_report(y_true, y_pred, digits=2, output_dict=True, zero_division=0)\n",
    "            classes = [key for key in report.keys() if key not in [\"accuracy\", \"macro avg\", \"weighted avg\"]]\n",
    "\n",
    "            table_rows = []\n",
    "            for cls in classes:\n",
    "                cls_metrics = report[cls]\n",
    "                row = [\n",
    "                    cls,\n",
    "                    round(cls_metrics[\"precision\"] * 100, 2),\n",
    "                    round(cls_metrics[\"recall\"] * 100, 2),\n",
    "                    round(cls_metrics[\"f1-score\"] * 100, 2),\n",
    "                    int(cls_metrics[\"support\"])\n",
    "                ]\n",
    "                color_code = COLORS.get(color, \"\")\n",
    "                if color_code:\n",
    "                    row = [f\"{color_code}{v}{RESET}\" for v in row]\n",
    "                table_rows.append(row)\n",
    "\n",
    "            headers = [\"Class\", \"Precision (%)\", \"Recall (%)\", \"F1 Score (%)\", \"Support\"]\n",
    "            print(f\"\\n📊 **{task} — {model_name} Per-Category Metrics**\\n\")\n",
    "            print(tabulate(table_rows, headers=headers, tablefmt=tablefmt))\n",
    "\n",
    "            if section_break:\n",
    "                print(\"\\n\" + \"=\" * 80 + \"\\n\")\n",
    "\n",
    "        except Exception as e:\n",
    "            print(f\"Error processing {model_name} ({file_path}): {e}\")   \n",
    "\n",
    "def calculate_metrics_with_category_breakdown(model_results, task=\"\", tablefmt_summary=\"grid\", tablefmt_category=\"grid\"):\n",
    "    \"\"\"\n",
    "    Computes overall metrics and per-category breakdown for each model, with automatic label descriptions,\n",
    "    and adds an overall metrics row to each breakdown table. Uses Markdown display for Jupyter bold headers.\n",
    "    \"\"\"\n",
    "\n",
    "    COLORS = {\n",
    "        \"green\": \"\\033[92m\",\n",
    "        \"red\": \"\\033[91m\",\n",
    "        \"yellow\": \"\\033[93m\",\n",
    "        \"blue\": \"\\033[94m\",\n",
    "        \"magenta\": \"\\033[95m\",\n",
    "        \"cyan\": \"\\033[96m\",\n",
    "        \"white\": \"\\033[97m\",\n",
    "        None: \"\"\n",
    "    }\n",
    "    RESET = \"\\033[0m\"\n",
    "\n",
    "    # Label descriptions for Humanitarian task\n",
    "    description_humanitarian = {\n",
    "        \"0\": \"Affected individuals\",\n",
    "        \"1\": \"Rescue/volunteering/donation\",\n",
    "        \"2\": \"Infrastructure & utility damage\",\n",
    "        \"3\": \"Other relevant info\",\n",
    "        \"4\": \"Not humanitarian\"\n",
    "    }\n",
    "\n",
    "    # Label descriptions for Informative task\n",
    "    description_informative = {\n",
    "        \"0\": \"Not informative\",\n",
    "        \"1\": \"Informative\"\n",
    "    }\n",
    "\n",
    "    # Choose correct description dict based on task name\n",
    "    if \"Humanitarian\" in task:\n",
    "        description_dict = description_humanitarian\n",
    "    elif \"Informative\" in task:\n",
    "        description_dict = description_informative\n",
    "    else:\n",
    "        description_dict = {}\n",
    "\n",
    "    summary_rows = []\n",
    "    per_model_breakdowns = []\n",
    "\n",
    "    for model_name, file_path, color, section_break in model_results:\n",
    "        try:\n",
    "            df = pd.read_json(file_path)\n",
    "\n",
    "            if \"y_true\" not in df or \"y_pred\" not in df:\n",
    "                print(f\"Error: Missing 'y_true' or 'y_pred' in {file_path}\")\n",
    "                continue\n",
    "\n",
    "            y_true = df[\"y_true\"].astype(str)\n",
    "            y_pred = df[\"y_pred\"].astype(str)\n",
    "\n",
    "            # Overall metrics\n",
    "            accuracy = round(accuracy_score(y_true, y_pred) * 100, 2)\n",
    "            precision = round(precision_score(y_true, y_pred, average=\"weighted\", zero_division=0) * 100, 2)\n",
    "            recall = round(recall_score(y_true, y_pred, average=\"weighted\", zero_division=0) * 100, 2)\n",
    "            f1 = round(f1_score(y_true, y_pred, average=\"weighted\", zero_division=0) * 100, 2)\n",
    "\n",
    "            row = [model_name, accuracy, precision, recall, f1]\n",
    "\n",
    "            color_code = COLORS.get(color, \"\")\n",
    "            if color_code:\n",
    "                row = [f\"{color_code}{val}{RESET}\" for val in row]\n",
    "\n",
    "            summary_rows.append(row)\n",
    "\n",
    "            # Per-category breakdown\n",
    "            report = classification_report(y_true, y_pred, digits=2, output_dict=True, zero_division=0)\n",
    "            classes = [key for key in report.keys() if key not in [\"accuracy\", \"macro avg\", \"weighted avg\"]]\n",
    "\n",
    "            category_rows = []\n",
    "            for cls in sorted(classes):  # sort for consistent order\n",
    "                cls_metrics = report[cls]\n",
    "                description = description_dict.get(cls, \"\")\n",
    "                cat_row = [\n",
    "                    cls,\n",
    "                    description,\n",
    "                    round(cls_metrics[\"precision\"] * 100, 2),\n",
    "                    round(cls_metrics[\"recall\"] * 100, 2),\n",
    "                    round(cls_metrics[\"f1-score\"] * 100, 2),\n",
    "                    int(cls_metrics[\"support\"])\n",
    "                ]\n",
    "                if color_code:\n",
    "                    cat_row = [f\"{color_code}{v}{RESET}\" for v in cat_row]\n",
    "                category_rows.append(cat_row)\n",
    "\n",
    "            # Add overall metrics row at the end\n",
    "            overall_row = [\n",
    "                \"\",\n",
    "                f\"Overall accuracy: {accuracy}%\",\n",
    "                precision,\n",
    "                recall,\n",
    "                f1,\n",
    "                \"—\"\n",
    "            ]\n",
    "            if color_code:\n",
    "                overall_row = [f\"{color_code}{v}{RESET}\" for v in overall_row]\n",
    "            category_rows.append(overall_row)\n",
    "\n",
    "            per_model_breakdowns.append((model_name, category_rows, section_break))\n",
    "\n",
    "        except Exception as e:\n",
    "            print(f\"Error processing {model_name} ({file_path}): {e}\")\n",
    "\n",
    "    # Print overall summary table first\n",
    "    headers_summary = [\"Model\", \"Accuracy (%)\", \"Precision (%)\", \"Recall (%)\", \"F1 Score (%)\"]\n",
    "    display(Markdown(f\"📊 **{task} — Overall Performance Summary**\"))\n",
    "    print(tabulate(summary_rows, headers=headers_summary, tablefmt=tablefmt_summary))\n",
    "\n",
    "    # Then print per-category breakdowns\n",
    "    for model_name, category_rows, section_break in per_model_breakdowns:\n",
    "        headers_category = [\"Label\", \"Description\", \"Precision (%)\", \"Recall (%)\", \"F1 Score (%)\", \"Support\"]\n",
    "        display(Markdown(f\"🗂️ **{task} — {model_name} Per-Category Metrics**\"))\n",
    "        print(tabulate(category_rows, headers=headers_category, tablefmt=tablefmt_category))\n",
    "\n",
    "        if section_break:\n",
    "            print(\"\\n\" + \"=\" * 80 + \"\\n\")"
   ]
  },
  {
   "cell_type": "markdown",
   "id": "cf01b925-ad04-40b0-9232-f64d9c7f021f",
   "metadata": {},
   "source": [
    "# GPT FEW SHOTS - HUMANITARIAN"
   ]
  },
  {
   "cell_type": "code",
   "execution_count": 30,
   "id": "270f3fd6-393b-446c-9672-a02bcd36d577",
   "metadata": {
    "scrolled": true
   },
   "outputs": [
    {
     "data": {
      "text/markdown": [
       "📊 **GPT Zeroshot & Fewshot - Humanitarian — Overall Performance Summary**"
      ],
      "text/plain": [
       "<IPython.core.display.Markdown object>"
      ]
     },
     "metadata": {},
     "output_type": "display_data"
    },
    {
     "name": "stdout",
     "output_type": "stream",
     "text": [
      "+---------------------------------------+----------------+-----------------+--------------+----------------+\n",
      "| Model                                 |   Accuracy (%) |   Precision (%) |   Recall (%) |   F1 Score (%) |\n",
      "+=======================================+================+=================+==============+================+\n",
      "| \u001b[91mZeroshot Text Only  - 4o\u001b[0m              |          \u001b[91m74.66\u001b[0m |           \u001b[91m75.03\u001b[0m |        \u001b[91m74.66\u001b[0m |          \u001b[91m74.27\u001b[0m |\n",
      "+---------------------------------------+----------------+-----------------+--------------+----------------+\n",
      "| \u001b[92mOneShot Text Only   - 4o\u001b[0m              |          \u001b[92m71.1\u001b[0m  |           \u001b[92m76.59\u001b[0m |        \u001b[92m71.1\u001b[0m  |          \u001b[92m72\u001b[0m    |\n",
      "+---------------------------------------+----------------+-----------------+--------------+----------------+\n",
      "| \u001b[94mFiveShot Text Only  - 4o\u001b[0m              |          \u001b[94m71.1\u001b[0m  |           \u001b[94m76.78\u001b[0m |        \u001b[94m71.1\u001b[0m  |          \u001b[94m72.17\u001b[0m |\n",
      "+---------------------------------------+----------------+-----------------+--------------+----------------+\n",
      "| \u001b[93mFiveshots Text Only - 4o Inconsistent\u001b[0m |          \u001b[93m70.37\u001b[0m |           \u001b[93m76.25\u001b[0m |        \u001b[93m70.37\u001b[0m |          \u001b[93m71.63\u001b[0m |\n",
      "+---------------------------------------+----------------+-----------------+--------------+----------------+\n",
      "| \u001b[91mZeroshot Image Only - 4o\u001b[0m              |          \u001b[91m84.71\u001b[0m |           \u001b[91m87.18\u001b[0m |        \u001b[91m84.71\u001b[0m |          \u001b[91m85.28\u001b[0m |\n",
      "+---------------------------------------+----------------+-----------------+--------------+----------------+\n",
      "| \u001b[92mOneShot Image Only  - 4o\u001b[0m              |          \u001b[92m84.29\u001b[0m |           \u001b[92m87.16\u001b[0m |        \u001b[92m84.29\u001b[0m |          \u001b[92m85.04\u001b[0m |\n",
      "+---------------------------------------+----------------+-----------------+--------------+----------------+\n",
      "| \u001b[94mFiveShot Image Only - 4o\u001b[0m              |          \u001b[94m83.98\u001b[0m |           \u001b[94m87.12\u001b[0m |        \u001b[94m83.98\u001b[0m |          \u001b[94m84.53\u001b[0m |\n",
      "+---------------------------------------+----------------+-----------------+--------------+----------------+\n",
      "| \u001b[91mZeroshot Text Image - 4o\u001b[0m              |          \u001b[91m75.08\u001b[0m |           \u001b[91m81.77\u001b[0m |        \u001b[91m75.08\u001b[0m |          \u001b[91m75.52\u001b[0m |\n",
      "+---------------------------------------+----------------+-----------------+--------------+----------------+\n",
      "| \u001b[92mOneShot Text Image  - 4o\u001b[0m              |          \u001b[92m75.29\u001b[0m |           \u001b[92m82.47\u001b[0m |        \u001b[92m75.29\u001b[0m |          \u001b[92m75.97\u001b[0m |\n",
      "+---------------------------------------+----------------+-----------------+--------------+----------------+\n",
      "| \u001b[94mFiveShot Text Image - 4o\u001b[0m              |          \u001b[94m78.01\u001b[0m |           \u001b[94m84.46\u001b[0m |        \u001b[94m78.01\u001b[0m |          \u001b[94m79.02\u001b[0m |\n",
      "+---------------------------------------+----------------+-----------------+--------------+----------------+\n",
      "| \u001b[91mZeroshot Text Only  - 4o mini\u001b[0m         |          \u001b[91m74.24\u001b[0m |           \u001b[91m77.97\u001b[0m |        \u001b[91m74.24\u001b[0m |          \u001b[91m75.07\u001b[0m |\n",
      "+---------------------------------------+----------------+-----------------+--------------+----------------+\n",
      "| \u001b[92mOneShot Text Only   - 4o mini\u001b[0m         |          \u001b[92m69.95\u001b[0m |           \u001b[92m77.64\u001b[0m |        \u001b[92m69.95\u001b[0m |          \u001b[92m70.89\u001b[0m |\n",
      "+---------------------------------------+----------------+-----------------+--------------+----------------+\n",
      "| \u001b[94mFiveShot Text Only  - 4o mini\u001b[0m         |          \u001b[94m71.31\u001b[0m |           \u001b[94m77.8\u001b[0m  |        \u001b[94m71.31\u001b[0m |          \u001b[94m72.76\u001b[0m |\n",
      "+---------------------------------------+----------------+-----------------+--------------+----------------+\n",
      "| \u001b[91mZeroshot Image Only - 4o mini\u001b[0m         |          \u001b[91m84.5\u001b[0m  |           \u001b[91m86.58\u001b[0m |        \u001b[91m84.5\u001b[0m  |          \u001b[91m85.12\u001b[0m |\n",
      "+---------------------------------------+----------------+-----------------+--------------+----------------+\n",
      "| \u001b[92mOneShot Image Only  - 4o mini\u001b[0m         |          \u001b[92m84.5\u001b[0m  |           \u001b[92m86.68\u001b[0m |        \u001b[92m84.5\u001b[0m  |          \u001b[92m85.13\u001b[0m |\n",
      "+---------------------------------------+----------------+-----------------+--------------+----------------+\n",
      "| \u001b[94mFiveShot Image Only - 4o mini\u001b[0m         |          \u001b[94m84.71\u001b[0m |           \u001b[94m86.83\u001b[0m |        \u001b[94m84.71\u001b[0m |          \u001b[94m85.46\u001b[0m |\n",
      "+---------------------------------------+----------------+-----------------+--------------+----------------+\n",
      "| \u001b[91mZeroshot Text Image - 4o mini\u001b[0m         |          \u001b[91m77.17\u001b[0m |           \u001b[91m83.48\u001b[0m |        \u001b[91m77.17\u001b[0m |          \u001b[91m78.59\u001b[0m |\n",
      "+---------------------------------------+----------------+-----------------+--------------+----------------+\n",
      "| \u001b[92mOneShot Text Image  - 4o mini\u001b[0m         |          \u001b[92m78.74\u001b[0m |           \u001b[92m84.34\u001b[0m |        \u001b[92m78.74\u001b[0m |          \u001b[92m80.26\u001b[0m |\n",
      "+---------------------------------------+----------------+-----------------+--------------+----------------+\n",
      "| \u001b[94mFiveShot Text Image - 4o mini\u001b[0m         |          \u001b[94m77.91\u001b[0m |           \u001b[94m82.09\u001b[0m |        \u001b[94m77.91\u001b[0m |          \u001b[94m78.63\u001b[0m |\n",
      "+---------------------------------------+----------------+-----------------+--------------+----------------+\n"
     ]
    },
    {
     "data": {
      "text/markdown": [
       "🗂️ **GPT Zeroshot & Fewshot - Humanitarian — Zeroshot Text Only  - 4o Per-Category Metrics**"
      ],
      "text/plain": [
       "<IPython.core.display.Markdown object>"
      ]
     },
     "metadata": {},
     "output_type": "display_data"
    },
    {
     "name": "stdout",
     "output_type": "stream",
     "text": [
      "+---------+---------------------------------+-----------------+--------------+----------------+-----------+\n",
      "| Label   | Description                     |   Precision (%) |   Recall (%) |   F1 Score (%) | Support   |\n",
      "+=========+=================================+=================+==============+================+===========+\n",
      "| \u001b[91m0\u001b[0m       | \u001b[91mAffected individuals\u001b[0m            |           \u001b[91m15.79\u001b[0m |        \u001b[91m33.33\u001b[0m |          \u001b[91m21.43\u001b[0m | \u001b[91m9\u001b[0m         |\n",
      "+---------+---------------------------------+-----------------+--------------+----------------+-----------+\n",
      "| \u001b[91m1\u001b[0m       | \u001b[91mRescue/volunteering/donation\u001b[0m    |           \u001b[91m80.8\u001b[0m  |        \u001b[91m80.16\u001b[0m |          \u001b[91m80.48\u001b[0m | \u001b[91m126\u001b[0m       |\n",
      "+---------+---------------------------------+-----------------+--------------+----------------+-----------+\n",
      "| \u001b[91m2\u001b[0m       | \u001b[91mInfrastructure & utility damage\u001b[0m |           \u001b[91m77.05\u001b[0m |        \u001b[91m58.02\u001b[0m |          \u001b[91m66.2\u001b[0m  | \u001b[91m81\u001b[0m        |\n",
      "+---------+---------------------------------+-----------------+--------------+----------------+-----------+\n",
      "| \u001b[91m3\u001b[0m       | \u001b[91mOther relevant info\u001b[0m             |           \u001b[91m71.11\u001b[0m |        \u001b[91m54.47\u001b[0m |          \u001b[91m61.69\u001b[0m | \u001b[91m235\u001b[0m       |\n",
      "+---------+---------------------------------+-----------------+--------------+----------------+-----------+\n",
      "| \u001b[91m4\u001b[0m       | \u001b[91mNot humanitarian\u001b[0m                |           \u001b[91m76.14\u001b[0m |        \u001b[91m86.11\u001b[0m |          \u001b[91m80.82\u001b[0m | \u001b[91m504\u001b[0m       |\n",
      "+---------+---------------------------------+-----------------+--------------+----------------+-----------+\n",
      "| \u001b[91m\u001b[0m        | \u001b[91mOverall accuracy: 74.66%\u001b[0m        |           \u001b[91m75.03\u001b[0m |        \u001b[91m74.66\u001b[0m |          \u001b[91m74.27\u001b[0m | \u001b[91m—\u001b[0m         |\n",
      "+---------+---------------------------------+-----------------+--------------+----------------+-----------+\n"
     ]
    },
    {
     "data": {
      "text/markdown": [
       "🗂️ **GPT Zeroshot & Fewshot - Humanitarian — OneShot Text Only   - 4o Per-Category Metrics**"
      ],
      "text/plain": [
       "<IPython.core.display.Markdown object>"
      ]
     },
     "metadata": {},
     "output_type": "display_data"
    },
    {
     "name": "stdout",
     "output_type": "stream",
     "text": [
      "+---------+---------------------------------+-----------------+--------------+----------------+-----------+\n",
      "| Label   | Description                     |   Precision (%) |   Recall (%) |   F1 Score (%) | Support   |\n",
      "+=========+=================================+=================+==============+================+===========+\n",
      "| \u001b[92m0\u001b[0m       | \u001b[92mAffected individuals\u001b[0m            |           \u001b[92m12.2\u001b[0m  |        \u001b[92m55.56\u001b[0m |          \u001b[92m20\u001b[0m    | \u001b[92m9\u001b[0m         |\n",
      "+---------+---------------------------------+-----------------+--------------+----------------+-----------+\n",
      "| \u001b[92m1\u001b[0m       | \u001b[92mRescue/volunteering/donation\u001b[0m    |           \u001b[92m65\u001b[0m    |        \u001b[92m92.86\u001b[0m |          \u001b[92m76.47\u001b[0m | \u001b[92m126\u001b[0m       |\n",
      "+---------+---------------------------------+-----------------+--------------+----------------+-----------+\n",
      "| \u001b[92m2\u001b[0m       | \u001b[92mInfrastructure & utility damage\u001b[0m |           \u001b[92m65.26\u001b[0m |        \u001b[92m76.54\u001b[0m |          \u001b[92m70.45\u001b[0m | \u001b[92m81\u001b[0m        |\n",
      "+---------+---------------------------------+-----------------+--------------+----------------+-----------+\n",
      "| \u001b[92m3\u001b[0m       | \u001b[92mOther relevant info\u001b[0m             |           \u001b[92m63.73\u001b[0m |        \u001b[92m77.02\u001b[0m |          \u001b[92m69.75\u001b[0m | \u001b[92m235\u001b[0m       |\n",
      "+---------+---------------------------------+-----------------+--------------+----------------+-----------+\n",
      "| \u001b[92m4\u001b[0m       | \u001b[92mNot humanitarian\u001b[0m                |           \u001b[92m88.45\u001b[0m |        \u001b[92m62.3\u001b[0m  |          \u001b[92m73.11\u001b[0m | \u001b[92m504\u001b[0m       |\n",
      "+---------+---------------------------------+-----------------+--------------+----------------+-----------+\n",
      "| \u001b[92m\u001b[0m        | \u001b[92mOverall accuracy: 71.1%\u001b[0m         |           \u001b[92m76.59\u001b[0m |        \u001b[92m71.1\u001b[0m  |          \u001b[92m72\u001b[0m    | \u001b[92m—\u001b[0m         |\n",
      "+---------+---------------------------------+-----------------+--------------+----------------+-----------+\n"
     ]
    },
    {
     "data": {
      "text/markdown": [
       "🗂️ **GPT Zeroshot & Fewshot - Humanitarian — FiveShot Text Only  - 4o Per-Category Metrics**"
      ],
      "text/plain": [
       "<IPython.core.display.Markdown object>"
      ]
     },
     "metadata": {},
     "output_type": "display_data"
    },
    {
     "name": "stdout",
     "output_type": "stream",
     "text": [
      "+---------+---------------------------------+-----------------+--------------+----------------+-----------+\n",
      "| Label   | Description                     |   Precision (%) |   Recall (%) |   F1 Score (%) | Support   |\n",
      "+=========+=================================+=================+==============+================+===========+\n",
      "| \u001b[94m0\u001b[0m       | \u001b[94mAffected individuals\u001b[0m            |           \u001b[94m15.69\u001b[0m |        \u001b[94m88.89\u001b[0m |          \u001b[94m26.67\u001b[0m | \u001b[94m9\u001b[0m         |\n",
      "+---------+---------------------------------+-----------------+--------------+----------------+-----------+\n",
      "| \u001b[94m1\u001b[0m       | \u001b[94mRescue/volunteering/donation\u001b[0m    |           \u001b[94m64.13\u001b[0m |        \u001b[94m93.65\u001b[0m |          \u001b[94m76.13\u001b[0m | \u001b[94m126\u001b[0m       |\n",
      "+---------+---------------------------------+-----------------+--------------+----------------+-----------+\n",
      "| \u001b[94m2\u001b[0m       | \u001b[94mInfrastructure & utility damage\u001b[0m |           \u001b[94m59.79\u001b[0m |        \u001b[94m71.6\u001b[0m  |          \u001b[94m65.17\u001b[0m | \u001b[94m81\u001b[0m        |\n",
      "+---------+---------------------------------+-----------------+--------------+----------------+-----------+\n",
      "| \u001b[94m3\u001b[0m       | \u001b[94mOther relevant info\u001b[0m             |           \u001b[94m67.43\u001b[0m |        \u001b[94m74.89\u001b[0m |          \u001b[94m70.97\u001b[0m | \u001b[94m235\u001b[0m       |\n",
      "+---------+---------------------------------+-----------------+--------------+----------------+-----------+\n",
      "| \u001b[94m4\u001b[0m       | \u001b[94mNot humanitarian\u001b[0m                |           \u001b[94m88.12\u001b[0m |        \u001b[94m63.29\u001b[0m |          \u001b[94m73.67\u001b[0m | \u001b[94m504\u001b[0m       |\n",
      "+---------+---------------------------------+-----------------+--------------+----------------+-----------+\n",
      "| \u001b[94m\u001b[0m        | \u001b[94mOverall accuracy: 71.1%\u001b[0m         |           \u001b[94m76.78\u001b[0m |        \u001b[94m71.1\u001b[0m  |          \u001b[94m72.17\u001b[0m | \u001b[94m—\u001b[0m         |\n",
      "+---------+---------------------------------+-----------------+--------------+----------------+-----------+\n"
     ]
    },
    {
     "data": {
      "text/markdown": [
       "🗂️ **GPT Zeroshot & Fewshot - Humanitarian — Fiveshots Text Only - 4o Inconsistent Per-Category Metrics**"
      ],
      "text/plain": [
       "<IPython.core.display.Markdown object>"
      ]
     },
     "metadata": {},
     "output_type": "display_data"
    },
    {
     "name": "stdout",
     "output_type": "stream",
     "text": [
      "+---------+---------------------------------+-----------------+--------------+----------------+-----------+\n",
      "| Label   | Description                     |   Precision (%) |   Recall (%) |   F1 Score (%) | Support   |\n",
      "+=========+=================================+=================+==============+================+===========+\n",
      "| \u001b[93m0\u001b[0m       | \u001b[93mAffected individuals\u001b[0m            |           \u001b[93m12.96\u001b[0m |        \u001b[93m77.78\u001b[0m |          \u001b[93m22.22\u001b[0m | \u001b[93m9\u001b[0m         |\n",
      "+---------+---------------------------------+-----------------+--------------+----------------+-----------+\n",
      "| \u001b[93m1\u001b[0m       | \u001b[93mRescue/volunteering/donation\u001b[0m    |           \u001b[93m61.5\u001b[0m  |        \u001b[93m91.27\u001b[0m |          \u001b[93m73.48\u001b[0m | \u001b[93m126\u001b[0m       |\n",
      "+---------+---------------------------------+-----------------+--------------+----------------+-----------+\n",
      "| \u001b[93m2\u001b[0m       | \u001b[93mInfrastructure & utility damage\u001b[0m |           \u001b[93m61.46\u001b[0m |        \u001b[93m72.84\u001b[0m |          \u001b[93m66.67\u001b[0m | \u001b[93m81\u001b[0m        |\n",
      "+---------+---------------------------------+-----------------+--------------+----------------+-----------+\n",
      "| \u001b[93m3\u001b[0m       | \u001b[93mOther relevant info\u001b[0m             |           \u001b[93m68.38\u001b[0m |        \u001b[93m73.62\u001b[0m |          \u001b[93m70.9\u001b[0m  | \u001b[93m235\u001b[0m       |\n",
      "+---------+---------------------------------+-----------------+--------------+----------------+-----------+\n",
      "| \u001b[93m4\u001b[0m       | \u001b[93mNot humanitarian\u001b[0m                |           \u001b[93m87.12\u001b[0m |        \u001b[93m63.1\u001b[0m  |          \u001b[93m73.19\u001b[0m | \u001b[93m504\u001b[0m       |\n",
      "+---------+---------------------------------+-----------------+--------------+----------------+-----------+\n",
      "| \u001b[93m\u001b[0m        | \u001b[93mOverall accuracy: 70.37%\u001b[0m        |           \u001b[93m76.25\u001b[0m |        \u001b[93m70.37\u001b[0m |          \u001b[93m71.63\u001b[0m | \u001b[93m—\u001b[0m         |\n",
      "+---------+---------------------------------+-----------------+--------------+----------------+-----------+\n",
      "\n",
      "================================================================================\n",
      "\n"
     ]
    },
    {
     "data": {
      "text/markdown": [
       "🗂️ **GPT Zeroshot & Fewshot - Humanitarian — Zeroshot Image Only - 4o Per-Category Metrics**"
      ],
      "text/plain": [
       "<IPython.core.display.Markdown object>"
      ]
     },
     "metadata": {},
     "output_type": "display_data"
    },
    {
     "name": "stdout",
     "output_type": "stream",
     "text": [
      "+---------+---------------------------------+-----------------+--------------+----------------+-----------+\n",
      "| Label   | Description                     |   Precision (%) |   Recall (%) |   F1 Score (%) | Support   |\n",
      "+=========+=================================+=================+==============+================+===========+\n",
      "| \u001b[91m0\u001b[0m       | \u001b[91mAffected individuals\u001b[0m            |           \u001b[91m30.43\u001b[0m |        \u001b[91m77.78\u001b[0m |          \u001b[91m43.75\u001b[0m | \u001b[91m9\u001b[0m         |\n",
      "+---------+---------------------------------+-----------------+--------------+----------------+-----------+\n",
      "| \u001b[91m1\u001b[0m       | \u001b[91mRescue/volunteering/donation\u001b[0m    |           \u001b[91m68.05\u001b[0m |        \u001b[91m91.27\u001b[0m |          \u001b[91m77.97\u001b[0m | \u001b[91m126\u001b[0m       |\n",
      "+---------+---------------------------------+-----------------+--------------+----------------+-----------+\n",
      "| \u001b[91m2\u001b[0m       | \u001b[91mInfrastructure & utility damage\u001b[0m |           \u001b[91m75.79\u001b[0m |        \u001b[91m88.89\u001b[0m |          \u001b[91m81.82\u001b[0m | \u001b[91m81\u001b[0m        |\n",
      "+---------+---------------------------------+-----------------+--------------+----------------+-----------+\n",
      "| \u001b[91m3\u001b[0m       | \u001b[91mOther relevant info\u001b[0m             |           \u001b[91m87.03\u001b[0m |        \u001b[91m88.51\u001b[0m |          \u001b[91m87.76\u001b[0m | \u001b[91m235\u001b[0m       |\n",
      "+---------+---------------------------------+-----------------+--------------+----------------+-----------+\n",
      "| \u001b[91m4\u001b[0m       | \u001b[91mNot humanitarian\u001b[0m                |           \u001b[91m94.87\u001b[0m |        \u001b[91m80.75\u001b[0m |          \u001b[91m87.25\u001b[0m | \u001b[91m504\u001b[0m       |\n",
      "+---------+---------------------------------+-----------------+--------------+----------------+-----------+\n",
      "| \u001b[91m\u001b[0m        | \u001b[91mOverall accuracy: 84.71%\u001b[0m        |           \u001b[91m87.18\u001b[0m |        \u001b[91m84.71\u001b[0m |          \u001b[91m85.28\u001b[0m | \u001b[91m—\u001b[0m         |\n",
      "+---------+---------------------------------+-----------------+--------------+----------------+-----------+\n"
     ]
    },
    {
     "data": {
      "text/markdown": [
       "🗂️ **GPT Zeroshot & Fewshot - Humanitarian — OneShot Image Only  - 4o Per-Category Metrics**"
      ],
      "text/plain": [
       "<IPython.core.display.Markdown object>"
      ]
     },
     "metadata": {},
     "output_type": "display_data"
    },
    {
     "name": "stdout",
     "output_type": "stream",
     "text": [
      "+---------+---------------------------------+-----------------+--------------+----------------+-----------+\n",
      "| Label   | Description                     |   Precision (%) |   Recall (%) |   F1 Score (%) | Support   |\n",
      "+=========+=================================+=================+==============+================+===========+\n",
      "| \u001b[92m0\u001b[0m       | \u001b[92mAffected individuals\u001b[0m            |           \u001b[92m22.58\u001b[0m |        \u001b[92m77.78\u001b[0m |          \u001b[92m35\u001b[0m    | \u001b[92m9\u001b[0m         |\n",
      "+---------+---------------------------------+-----------------+--------------+----------------+-----------+\n",
      "| \u001b[92m1\u001b[0m       | \u001b[92mRescue/volunteering/donation\u001b[0m    |           \u001b[92m69.75\u001b[0m |        \u001b[92m89.68\u001b[0m |          \u001b[92m78.47\u001b[0m | \u001b[92m126\u001b[0m       |\n",
      "+---------+---------------------------------+-----------------+--------------+----------------+-----------+\n",
      "| \u001b[92m2\u001b[0m       | \u001b[92mInfrastructure & utility damage\u001b[0m |           \u001b[92m82.56\u001b[0m |        \u001b[92m87.65\u001b[0m |          \u001b[92m85.03\u001b[0m | \u001b[92m81\u001b[0m        |\n",
      "+---------+---------------------------------+-----------------+--------------+----------------+-----------+\n",
      "| \u001b[92m3\u001b[0m       | \u001b[92mOther relevant info\u001b[0m             |           \u001b[92m84.13\u001b[0m |        \u001b[92m90.21\u001b[0m |          \u001b[92m87.06\u001b[0m | \u001b[92m235\u001b[0m       |\n",
      "+---------+---------------------------------+-----------------+--------------+----------------+-----------+\n",
      "| \u001b[92m4\u001b[0m       | \u001b[92mNot humanitarian\u001b[0m                |           \u001b[92m94.81\u001b[0m |        \u001b[92m79.76\u001b[0m |          \u001b[92m86.64\u001b[0m | \u001b[92m504\u001b[0m       |\n",
      "+---------+---------------------------------+-----------------+--------------+----------------+-----------+\n",
      "| \u001b[92m\u001b[0m        | \u001b[92mOverall accuracy: 84.29%\u001b[0m        |           \u001b[92m87.16\u001b[0m |        \u001b[92m84.29\u001b[0m |          \u001b[92m85.04\u001b[0m | \u001b[92m—\u001b[0m         |\n",
      "+---------+---------------------------------+-----------------+--------------+----------------+-----------+\n"
     ]
    },
    {
     "data": {
      "text/markdown": [
       "🗂️ **GPT Zeroshot & Fewshot - Humanitarian — FiveShot Image Only - 4o Per-Category Metrics**"
      ],
      "text/plain": [
       "<IPython.core.display.Markdown object>"
      ]
     },
     "metadata": {},
     "output_type": "display_data"
    },
    {
     "name": "stdout",
     "output_type": "stream",
     "text": [
      "+---------+---------------------------------+-----------------+--------------+----------------+-----------+\n",
      "| Label   | Description                     |   Precision (%) |   Recall (%) |   F1 Score (%) | Support   |\n",
      "+=========+=================================+=================+==============+================+===========+\n",
      "| \u001b[94m0\u001b[0m       | \u001b[94mAffected individuals\u001b[0m            |           \u001b[94m26.67\u001b[0m |        \u001b[94m88.89\u001b[0m |          \u001b[94m41.03\u001b[0m | \u001b[94m9\u001b[0m         |\n",
      "+---------+---------------------------------+-----------------+--------------+----------------+-----------+\n",
      "| \u001b[94m1\u001b[0m       | \u001b[94mRescue/volunteering/donation\u001b[0m    |           \u001b[94m73.25\u001b[0m |        \u001b[94m91.27\u001b[0m |          \u001b[94m81.27\u001b[0m | \u001b[94m126\u001b[0m       |\n",
      "+---------+---------------------------------+-----------------+--------------+----------------+-----------+\n",
      "| \u001b[94m2\u001b[0m       | \u001b[94mInfrastructure & utility damage\u001b[0m |           \u001b[94m78.49\u001b[0m |        \u001b[94m90.12\u001b[0m |          \u001b[94m83.91\u001b[0m | \u001b[94m81\u001b[0m        |\n",
      "+---------+---------------------------------+-----------------+--------------+----------------+-----------+\n",
      "| \u001b[94m3\u001b[0m       | \u001b[94mOther relevant info\u001b[0m             |           \u001b[94m80.22\u001b[0m |        \u001b[94m93.19\u001b[0m |          \u001b[94m86.22\u001b[0m | \u001b[94m235\u001b[0m       |\n",
      "+---------+---------------------------------+-----------------+--------------+----------------+-----------+\n",
      "| \u001b[94m4\u001b[0m       | \u001b[94mNot humanitarian\u001b[0m                |           \u001b[94m96.27\u001b[0m |        \u001b[94m76.79\u001b[0m |          \u001b[94m85.43\u001b[0m | \u001b[94m504\u001b[0m       |\n",
      "+---------+---------------------------------+-----------------+--------------+----------------+-----------+\n",
      "| \u001b[94m\u001b[0m        | \u001b[94mOverall accuracy: 83.98%\u001b[0m        |           \u001b[94m87.12\u001b[0m |        \u001b[94m83.98\u001b[0m |          \u001b[94m84.53\u001b[0m | \u001b[94m—\u001b[0m         |\n",
      "+---------+---------------------------------+-----------------+--------------+----------------+-----------+\n",
      "\n",
      "================================================================================\n",
      "\n"
     ]
    },
    {
     "data": {
      "text/markdown": [
       "🗂️ **GPT Zeroshot & Fewshot - Humanitarian — Zeroshot Text Image - 4o Per-Category Metrics**"
      ],
      "text/plain": [
       "<IPython.core.display.Markdown object>"
      ]
     },
     "metadata": {},
     "output_type": "display_data"
    },
    {
     "name": "stdout",
     "output_type": "stream",
     "text": [
      "+---------+---------------------------------+-----------------+--------------+----------------+-----------+\n",
      "| Label   | Description                     |   Precision (%) |   Recall (%) |   F1 Score (%) | Support   |\n",
      "+=========+=================================+=================+==============+================+===========+\n",
      "| \u001b[91m0\u001b[0m       | \u001b[91mAffected individuals\u001b[0m            |           \u001b[91m23.08\u001b[0m |        \u001b[91m66.67\u001b[0m |          \u001b[91m34.29\u001b[0m | \u001b[91m9\u001b[0m         |\n",
      "+---------+---------------------------------+-----------------+--------------+----------------+-----------+\n",
      "| \u001b[91m1\u001b[0m       | \u001b[91mRescue/volunteering/donation\u001b[0m    |           \u001b[91m56.62\u001b[0m |        \u001b[91m98.41\u001b[0m |          \u001b[91m71.88\u001b[0m | \u001b[91m126\u001b[0m       |\n",
      "+---------+---------------------------------+-----------------+--------------+----------------+-----------+\n",
      "| \u001b[91m2\u001b[0m       | \u001b[91mInfrastructure & utility damage\u001b[0m |           \u001b[91m73.68\u001b[0m |        \u001b[91m86.42\u001b[0m |          \u001b[91m79.55\u001b[0m | \u001b[91m81\u001b[0m        |\n",
      "+---------+---------------------------------+-----------------+--------------+----------------+-----------+\n",
      "| \u001b[91m3\u001b[0m       | \u001b[91mOther relevant info\u001b[0m             |           \u001b[91m70.98\u001b[0m |        \u001b[91m86.38\u001b[0m |          \u001b[91m77.93\u001b[0m | \u001b[91m235\u001b[0m       |\n",
      "+---------+---------------------------------+-----------------+--------------+----------------+-----------+\n",
      "| \u001b[91m4\u001b[0m       | \u001b[91mNot humanitarian\u001b[0m                |           \u001b[91m95.44\u001b[0m |        \u001b[91m62.3\u001b[0m  |          \u001b[91m75.39\u001b[0m | \u001b[91m504\u001b[0m       |\n",
      "+---------+---------------------------------+-----------------+--------------+----------------+-----------+\n",
      "| \u001b[91m\u001b[0m        | \u001b[91mOverall accuracy: 75.08%\u001b[0m        |           \u001b[91m81.77\u001b[0m |        \u001b[91m75.08\u001b[0m |          \u001b[91m75.52\u001b[0m | \u001b[91m—\u001b[0m         |\n",
      "+---------+---------------------------------+-----------------+--------------+----------------+-----------+\n"
     ]
    },
    {
     "data": {
      "text/markdown": [
       "🗂️ **GPT Zeroshot & Fewshot - Humanitarian — OneShot Text Image  - 4o Per-Category Metrics**"
      ],
      "text/plain": [
       "<IPython.core.display.Markdown object>"
      ]
     },
     "metadata": {},
     "output_type": "display_data"
    },
    {
     "name": "stdout",
     "output_type": "stream",
     "text": [
      "+---------+---------------------------------+-----------------+--------------+----------------+-----------+\n",
      "| Label   | Description                     |   Precision (%) |   Recall (%) |   F1 Score (%) | Support   |\n",
      "+=========+=================================+=================+==============+================+===========+\n",
      "| \u001b[92m0\u001b[0m       | \u001b[92mAffected individuals\u001b[0m            |           \u001b[92m17.78\u001b[0m |        \u001b[92m88.89\u001b[0m |          \u001b[92m29.63\u001b[0m | \u001b[92m9\u001b[0m         |\n",
      "+---------+---------------------------------+-----------------+--------------+----------------+-----------+\n",
      "| \u001b[92m1\u001b[0m       | \u001b[92mRescue/volunteering/donation\u001b[0m    |           \u001b[92m61.73\u001b[0m |        \u001b[92m96.03\u001b[0m |          \u001b[92m75.16\u001b[0m | \u001b[92m126\u001b[0m       |\n",
      "+---------+---------------------------------+-----------------+--------------+----------------+-----------+\n",
      "| \u001b[92m2\u001b[0m       | \u001b[92mInfrastructure & utility damage\u001b[0m |           \u001b[92m69.81\u001b[0m |        \u001b[92m91.36\u001b[0m |          \u001b[92m79.14\u001b[0m | \u001b[92m81\u001b[0m        |\n",
      "+---------+---------------------------------+-----------------+--------------+----------------+-----------+\n",
      "| \u001b[92m3\u001b[0m       | \u001b[92mOther relevant info\u001b[0m             |           \u001b[92m72.7\u001b[0m  |        \u001b[92m87.23\u001b[0m |          \u001b[92m79.3\u001b[0m  | \u001b[92m235\u001b[0m       |\n",
      "+---------+---------------------------------+-----------------+--------------+----------------+-----------+\n",
      "| \u001b[92m4\u001b[0m       | \u001b[92mNot humanitarian\u001b[0m                |           \u001b[92m95.4\u001b[0m  |        \u001b[92m61.71\u001b[0m |          \u001b[92m74.94\u001b[0m | \u001b[92m504\u001b[0m       |\n",
      "+---------+---------------------------------+-----------------+--------------+----------------+-----------+\n",
      "| \u001b[92m\u001b[0m        | \u001b[92mOverall accuracy: 75.29%\u001b[0m        |           \u001b[92m82.47\u001b[0m |        \u001b[92m75.29\u001b[0m |          \u001b[92m75.97\u001b[0m | \u001b[92m—\u001b[0m         |\n",
      "+---------+---------------------------------+-----------------+--------------+----------------+-----------+\n"
     ]
    },
    {
     "data": {
      "text/markdown": [
       "🗂️ **GPT Zeroshot & Fewshot - Humanitarian — FiveShot Text Image - 4o Per-Category Metrics**"
      ],
      "text/plain": [
       "<IPython.core.display.Markdown object>"
      ]
     },
     "metadata": {},
     "output_type": "display_data"
    },
    {
     "name": "stdout",
     "output_type": "stream",
     "text": [
      "+---------+---------------------------------+-----------------+--------------+----------------+-----------+\n",
      "| Label   | Description                     |   Precision (%) |   Recall (%) |   F1 Score (%) | Support   |\n",
      "+=========+=================================+=================+==============+================+===========+\n",
      "| \u001b[94m0\u001b[0m       | \u001b[94mAffected individuals\u001b[0m            |           \u001b[94m18\u001b[0m    |       \u001b[94m100\u001b[0m    |          \u001b[94m30.51\u001b[0m | \u001b[94m9\u001b[0m         |\n",
      "+---------+---------------------------------+-----------------+--------------+----------------+-----------+\n",
      "| \u001b[94m1\u001b[0m       | \u001b[94mRescue/volunteering/donation\u001b[0m    |           \u001b[94m63.49\u001b[0m |        \u001b[94m95.24\u001b[0m |          \u001b[94m76.19\u001b[0m | \u001b[94m126\u001b[0m       |\n",
      "+---------+---------------------------------+-----------------+--------------+----------------+-----------+\n",
      "| \u001b[94m2\u001b[0m       | \u001b[94mInfrastructure & utility damage\u001b[0m |           \u001b[94m76\u001b[0m    |        \u001b[94m93.83\u001b[0m |          \u001b[94m83.98\u001b[0m | \u001b[94m81\u001b[0m        |\n",
      "+---------+---------------------------------+-----------------+--------------+----------------+-----------+\n",
      "| \u001b[94m3\u001b[0m       | \u001b[94mOther relevant info\u001b[0m             |           \u001b[94m76.98\u001b[0m |        \u001b[94m86.81\u001b[0m |          \u001b[94m81.6\u001b[0m  | \u001b[94m235\u001b[0m       |\n",
      "+---------+---------------------------------+-----------------+--------------+----------------+-----------+\n",
      "| \u001b[94m4\u001b[0m       | \u001b[94mNot humanitarian\u001b[0m                |           \u001b[94m95.73\u001b[0m |        \u001b[94m66.67\u001b[0m |          \u001b[94m78.6\u001b[0m  | \u001b[94m504\u001b[0m       |\n",
      "+---------+---------------------------------+-----------------+--------------+----------------+-----------+\n",
      "| \u001b[94m\u001b[0m        | \u001b[94mOverall accuracy: 78.01%\u001b[0m        |           \u001b[94m84.46\u001b[0m |        \u001b[94m78.01\u001b[0m |          \u001b[94m79.02\u001b[0m | \u001b[94m—\u001b[0m         |\n",
      "+---------+---------------------------------+-----------------+--------------+----------------+-----------+\n",
      "\n",
      "================================================================================\n",
      "\n"
     ]
    },
    {
     "data": {
      "text/markdown": [
       "🗂️ **GPT Zeroshot & Fewshot - Humanitarian — Zeroshot Text Only  - 4o mini Per-Category Metrics**"
      ],
      "text/plain": [
       "<IPython.core.display.Markdown object>"
      ]
     },
     "metadata": {},
     "output_type": "display_data"
    },
    {
     "name": "stdout",
     "output_type": "stream",
     "text": [
      "+---------+---------------------------------+-----------------+--------------+----------------+-----------+\n",
      "| Label   | Description                     |   Precision (%) |   Recall (%) |   F1 Score (%) | Support   |\n",
      "+=========+=================================+=================+==============+================+===========+\n",
      "| \u001b[91m0\u001b[0m       | \u001b[91mAffected individuals\u001b[0m            |           \u001b[91m16.22\u001b[0m |        \u001b[91m66.67\u001b[0m |          \u001b[91m26.09\u001b[0m | \u001b[91m9\u001b[0m         |\n",
      "+---------+---------------------------------+-----------------+--------------+----------------+-----------+\n",
      "| \u001b[91m1\u001b[0m       | \u001b[91mRescue/volunteering/donation\u001b[0m    |           \u001b[91m72.61\u001b[0m |        \u001b[91m90.48\u001b[0m |          \u001b[91m80.57\u001b[0m | \u001b[91m126\u001b[0m       |\n",
      "+---------+---------------------------------+-----------------+--------------+----------------+-----------+\n",
      "| \u001b[91m2\u001b[0m       | \u001b[91mInfrastructure & utility damage\u001b[0m |           \u001b[91m79.63\u001b[0m |        \u001b[91m53.09\u001b[0m |          \u001b[91m63.7\u001b[0m  | \u001b[91m81\u001b[0m        |\n",
      "+---------+---------------------------------+-----------------+--------------+----------------+-----------+\n",
      "| \u001b[91m3\u001b[0m       | \u001b[91mOther relevant info\u001b[0m             |           \u001b[91m62.5\u001b[0m  |        \u001b[91m76.6\u001b[0m  |          \u001b[91m68.83\u001b[0m | \u001b[91m235\u001b[0m       |\n",
      "+---------+---------------------------------+-----------------+--------------+----------------+-----------+\n",
      "| \u001b[91m4\u001b[0m       | \u001b[91mNot humanitarian\u001b[0m                |           \u001b[91m87.35\u001b[0m |        \u001b[91m72.62\u001b[0m |          \u001b[91m79.31\u001b[0m | \u001b[91m504\u001b[0m       |\n",
      "+---------+---------------------------------+-----------------+--------------+----------------+-----------+\n",
      "| \u001b[91m\u001b[0m        | \u001b[91mOverall accuracy: 74.24%\u001b[0m        |           \u001b[91m77.97\u001b[0m |        \u001b[91m74.24\u001b[0m |          \u001b[91m75.07\u001b[0m | \u001b[91m—\u001b[0m         |\n",
      "+---------+---------------------------------+-----------------+--------------+----------------+-----------+\n"
     ]
    },
    {
     "data": {
      "text/markdown": [
       "🗂️ **GPT Zeroshot & Fewshot - Humanitarian — OneShot Text Only   - 4o mini Per-Category Metrics**"
      ],
      "text/plain": [
       "<IPython.core.display.Markdown object>"
      ]
     },
     "metadata": {},
     "output_type": "display_data"
    },
    {
     "name": "stdout",
     "output_type": "stream",
     "text": [
      "+---------+---------------------------------+-----------------+--------------+----------------+-----------+\n",
      "| Label   | Description                     |   Precision (%) |   Recall (%) |   F1 Score (%) | Support   |\n",
      "+=========+=================================+=================+==============+================+===========+\n",
      "| \u001b[92m0\u001b[0m       | \u001b[92mAffected individuals\u001b[0m            |           \u001b[92m16.67\u001b[0m |        \u001b[92m77.78\u001b[0m |          \u001b[92m27.45\u001b[0m | \u001b[92m9\u001b[0m         |\n",
      "+---------+---------------------------------+-----------------+--------------+----------------+-----------+\n",
      "| \u001b[92m1\u001b[0m       | \u001b[92mRescue/volunteering/donation\u001b[0m    |           \u001b[92m64.74\u001b[0m |        \u001b[92m88.89\u001b[0m |          \u001b[92m74.92\u001b[0m | \u001b[92m126\u001b[0m       |\n",
      "+---------+---------------------------------+-----------------+--------------+----------------+-----------+\n",
      "| \u001b[92m2\u001b[0m       | \u001b[92mInfrastructure & utility damage\u001b[0m |           \u001b[92m75.81\u001b[0m |        \u001b[92m58.02\u001b[0m |          \u001b[92m65.73\u001b[0m | \u001b[92m81\u001b[0m        |\n",
      "+---------+---------------------------------+-----------------+--------------+----------------+-----------+\n",
      "| \u001b[92m3\u001b[0m       | \u001b[92mOther relevant info\u001b[0m             |           \u001b[92m57.06\u001b[0m |        \u001b[92m84.26\u001b[0m |          \u001b[92m68.04\u001b[0m | \u001b[92m235\u001b[0m       |\n",
      "+---------+---------------------------------+-----------------+--------------+----------------+-----------+\n",
      "| \u001b[92m4\u001b[0m       | \u001b[92mNot humanitarian\u001b[0m                |           \u001b[92m91.84\u001b[0m |        \u001b[92m60.32\u001b[0m |          \u001b[92m72.81\u001b[0m | \u001b[92m504\u001b[0m       |\n",
      "+---------+---------------------------------+-----------------+--------------+----------------+-----------+\n",
      "| \u001b[92m\u001b[0m        | \u001b[92mOverall accuracy: 69.95%\u001b[0m        |           \u001b[92m77.64\u001b[0m |        \u001b[92m69.95\u001b[0m |          \u001b[92m70.89\u001b[0m | \u001b[92m—\u001b[0m         |\n",
      "+---------+---------------------------------+-----------------+--------------+----------------+-----------+\n"
     ]
    },
    {
     "data": {
      "text/markdown": [
       "🗂️ **GPT Zeroshot & Fewshot - Humanitarian — FiveShot Text Only  - 4o mini Per-Category Metrics**"
      ],
      "text/plain": [
       "<IPython.core.display.Markdown object>"
      ]
     },
     "metadata": {},
     "output_type": "display_data"
    },
    {
     "name": "stdout",
     "output_type": "stream",
     "text": [
      "+---------+---------------------------------+-----------------+--------------+----------------+-----------+\n",
      "| Label   | Description                     |   Precision (%) |   Recall (%) |   F1 Score (%) | Support   |\n",
      "+=========+=================================+=================+==============+================+===========+\n",
      "| \u001b[94m0\u001b[0m       | \u001b[94mAffected individuals\u001b[0m            |           \u001b[94m12.07\u001b[0m |        \u001b[94m77.78\u001b[0m |          \u001b[94m20.9\u001b[0m  | \u001b[94m9\u001b[0m         |\n",
      "+---------+---------------------------------+-----------------+--------------+----------------+-----------+\n",
      "| \u001b[94m1\u001b[0m       | \u001b[94mRescue/volunteering/donation\u001b[0m    |           \u001b[94m64.04\u001b[0m |        \u001b[94m90.48\u001b[0m |          \u001b[94m75\u001b[0m    | \u001b[94m126\u001b[0m       |\n",
      "+---------+---------------------------------+-----------------+--------------+----------------+-----------+\n",
      "| \u001b[94m2\u001b[0m       | \u001b[94mInfrastructure & utility damage\u001b[0m |           \u001b[94m72.31\u001b[0m |        \u001b[94m58.02\u001b[0m |          \u001b[94m64.38\u001b[0m | \u001b[94m81\u001b[0m        |\n",
      "+---------+---------------------------------+-----------------+--------------+----------------+-----------+\n",
      "| \u001b[94m3\u001b[0m       | \u001b[94mOther relevant info\u001b[0m             |           \u001b[94m64.24\u001b[0m |        \u001b[94m78.72\u001b[0m |          \u001b[94m70.75\u001b[0m | \u001b[94m235\u001b[0m       |\n",
      "+---------+---------------------------------+-----------------+--------------+----------------+-----------+\n",
      "| \u001b[94m4\u001b[0m       | \u001b[94mNot humanitarian\u001b[0m                |           \u001b[94m89.62\u001b[0m |        \u001b[94m65.08\u001b[0m |          \u001b[94m75.4\u001b[0m  | \u001b[94m504\u001b[0m       |\n",
      "+---------+---------------------------------+-----------------+--------------+----------------+-----------+\n",
      "| \u001b[94m\u001b[0m        | \u001b[94mOverall accuracy: 71.31%\u001b[0m        |           \u001b[94m77.8\u001b[0m  |        \u001b[94m71.31\u001b[0m |          \u001b[94m72.76\u001b[0m | \u001b[94m—\u001b[0m         |\n",
      "+---------+---------------------------------+-----------------+--------------+----------------+-----------+\n",
      "\n",
      "================================================================================\n",
      "\n"
     ]
    },
    {
     "data": {
      "text/markdown": [
       "🗂️ **GPT Zeroshot & Fewshot - Humanitarian — Zeroshot Image Only - 4o mini Per-Category Metrics**"
      ],
      "text/plain": [
       "<IPython.core.display.Markdown object>"
      ]
     },
     "metadata": {},
     "output_type": "display_data"
    },
    {
     "name": "stdout",
     "output_type": "stream",
     "text": [
      "+---------+---------------------------------+-----------------+--------------+----------------+-----------+\n",
      "| Label   | Description                     |   Precision (%) |   Recall (%) |   F1 Score (%) | Support   |\n",
      "+=========+=================================+=================+==============+================+===========+\n",
      "| \u001b[91m0\u001b[0m       | \u001b[91mAffected individuals\u001b[0m            |           \u001b[91m25\u001b[0m    |        \u001b[91m77.78\u001b[0m |          \u001b[91m37.84\u001b[0m | \u001b[91m9\u001b[0m         |\n",
      "+---------+---------------------------------+-----------------+--------------+----------------+-----------+\n",
      "| \u001b[91m1\u001b[0m       | \u001b[91mRescue/volunteering/donation\u001b[0m    |           \u001b[91m72.26\u001b[0m |        \u001b[91m88.89\u001b[0m |          \u001b[91m79.72\u001b[0m | \u001b[91m126\u001b[0m       |\n",
      "+---------+---------------------------------+-----------------+--------------+----------------+-----------+\n",
      "| \u001b[91m2\u001b[0m       | \u001b[91mInfrastructure & utility damage\u001b[0m |           \u001b[91m82.93\u001b[0m |        \u001b[91m83.95\u001b[0m |          \u001b[91m83.44\u001b[0m | \u001b[91m81\u001b[0m        |\n",
      "+---------+---------------------------------+-----------------+--------------+----------------+-----------+\n",
      "| \u001b[91m3\u001b[0m       | \u001b[91mOther relevant info\u001b[0m             |           \u001b[91m84.02\u001b[0m |        \u001b[91m87.23\u001b[0m |          \u001b[91m85.59\u001b[0m | \u001b[91m235\u001b[0m       |\n",
      "+---------+---------------------------------+-----------------+--------------+----------------+-----------+\n",
      "| \u001b[91m4\u001b[0m       | \u001b[91mNot humanitarian\u001b[0m                |           \u001b[91m93.05\u001b[0m |        \u001b[91m82.34\u001b[0m |          \u001b[91m87.37\u001b[0m | \u001b[91m504\u001b[0m       |\n",
      "+---------+---------------------------------+-----------------+--------------+----------------+-----------+\n",
      "| \u001b[91m\u001b[0m        | \u001b[91mOverall accuracy: 84.5%\u001b[0m         |           \u001b[91m86.58\u001b[0m |        \u001b[91m84.5\u001b[0m  |          \u001b[91m85.12\u001b[0m | \u001b[91m—\u001b[0m         |\n",
      "+---------+---------------------------------+-----------------+--------------+----------------+-----------+\n"
     ]
    },
    {
     "data": {
      "text/markdown": [
       "🗂️ **GPT Zeroshot & Fewshot - Humanitarian — OneShot Image Only  - 4o mini Per-Category Metrics**"
      ],
      "text/plain": [
       "<IPython.core.display.Markdown object>"
      ]
     },
     "metadata": {},
     "output_type": "display_data"
    },
    {
     "name": "stdout",
     "output_type": "stream",
     "text": [
      "+---------+---------------------------------+-----------------+--------------+----------------+-----------+\n",
      "| Label   | Description                     |   Precision (%) |   Recall (%) |   F1 Score (%) | Support   |\n",
      "+=========+=================================+=================+==============+================+===========+\n",
      "| \u001b[92m0\u001b[0m       | \u001b[92mAffected individuals\u001b[0m            |           \u001b[92m25\u001b[0m    |        \u001b[92m77.78\u001b[0m |          \u001b[92m37.84\u001b[0m | \u001b[92m9\u001b[0m         |\n",
      "+---------+---------------------------------+-----------------+--------------+----------------+-----------+\n",
      "| \u001b[92m1\u001b[0m       | \u001b[92mRescue/volunteering/donation\u001b[0m    |           \u001b[92m71.07\u001b[0m |        \u001b[92m89.68\u001b[0m |          \u001b[92m79.3\u001b[0m  | \u001b[92m126\u001b[0m       |\n",
      "+---------+---------------------------------+-----------------+--------------+----------------+-----------+\n",
      "| \u001b[92m2\u001b[0m       | \u001b[92mInfrastructure & utility damage\u001b[0m |           \u001b[92m81.93\u001b[0m |        \u001b[92m83.95\u001b[0m |          \u001b[92m82.93\u001b[0m | \u001b[92m81\u001b[0m        |\n",
      "+---------+---------------------------------+-----------------+--------------+----------------+-----------+\n",
      "| \u001b[92m3\u001b[0m       | \u001b[92mOther relevant info\u001b[0m             |           \u001b[92m85.48\u001b[0m |        \u001b[92m87.66\u001b[0m |          \u001b[92m86.55\u001b[0m | \u001b[92m235\u001b[0m       |\n",
      "+---------+---------------------------------+-----------------+--------------+----------------+-----------+\n",
      "| \u001b[92m4\u001b[0m       | \u001b[92mNot humanitarian\u001b[0m                |           \u001b[92m93.02\u001b[0m |        \u001b[92m81.94\u001b[0m |          \u001b[92m87.13\u001b[0m | \u001b[92m504\u001b[0m       |\n",
      "+---------+---------------------------------+-----------------+--------------+----------------+-----------+\n",
      "| \u001b[92m\u001b[0m        | \u001b[92mOverall accuracy: 84.5%\u001b[0m         |           \u001b[92m86.68\u001b[0m |        \u001b[92m84.5\u001b[0m  |          \u001b[92m85.13\u001b[0m | \u001b[92m—\u001b[0m         |\n",
      "+---------+---------------------------------+-----------------+--------------+----------------+-----------+\n"
     ]
    },
    {
     "data": {
      "text/markdown": [
       "🗂️ **GPT Zeroshot & Fewshot - Humanitarian — FiveShot Image Only - 4o mini Per-Category Metrics**"
      ],
      "text/plain": [
       "<IPython.core.display.Markdown object>"
      ]
     },
     "metadata": {},
     "output_type": "display_data"
    },
    {
     "name": "stdout",
     "output_type": "stream",
     "text": [
      "+---------+---------------------------------+-----------------+--------------+----------------+-----------+\n",
      "| Label   | Description                     |   Precision (%) |   Recall (%) |   F1 Score (%) | Support   |\n",
      "+=========+=================================+=================+==============+================+===========+\n",
      "| \u001b[94m0\u001b[0m       | \u001b[94mAffected individuals\u001b[0m            |           \u001b[94m21.88\u001b[0m |        \u001b[94m77.78\u001b[0m |          \u001b[94m34.15\u001b[0m | \u001b[94m9\u001b[0m         |\n",
      "+---------+---------------------------------+-----------------+--------------+----------------+-----------+\n",
      "| \u001b[94m1\u001b[0m       | \u001b[94mRescue/volunteering/donation\u001b[0m    |           \u001b[94m72.19\u001b[0m |        \u001b[94m86.51\u001b[0m |          \u001b[94m78.7\u001b[0m  | \u001b[94m126\u001b[0m       |\n",
      "+---------+---------------------------------+-----------------+--------------+----------------+-----------+\n",
      "| \u001b[94m2\u001b[0m       | \u001b[94mInfrastructure & utility damage\u001b[0m |           \u001b[94m91.89\u001b[0m |        \u001b[94m83.95\u001b[0m |          \u001b[94m87.74\u001b[0m | \u001b[94m81\u001b[0m        |\n",
      "+---------+---------------------------------+-----------------+--------------+----------------+-----------+\n",
      "| \u001b[94m3\u001b[0m       | \u001b[94mOther relevant info\u001b[0m             |           \u001b[94m87.17\u001b[0m |        \u001b[94m83.83\u001b[0m |          \u001b[94m85.47\u001b[0m | \u001b[94m235\u001b[0m       |\n",
      "+---------+---------------------------------+-----------------+--------------+----------------+-----------+\n",
      "| \u001b[94m4\u001b[0m       | \u001b[94mNot humanitarian\u001b[0m                |           \u001b[94m90.68\u001b[0m |        \u001b[94m84.92\u001b[0m |          \u001b[94m87.7\u001b[0m  | \u001b[94m504\u001b[0m       |\n",
      "+---------+---------------------------------+-----------------+--------------+----------------+-----------+\n",
      "| \u001b[94m\u001b[0m        | \u001b[94mOverall accuracy: 84.71%\u001b[0m        |           \u001b[94m86.83\u001b[0m |        \u001b[94m84.71\u001b[0m |          \u001b[94m85.46\u001b[0m | \u001b[94m—\u001b[0m         |\n",
      "+---------+---------------------------------+-----------------+--------------+----------------+-----------+\n",
      "\n",
      "================================================================================\n",
      "\n"
     ]
    },
    {
     "data": {
      "text/markdown": [
       "🗂️ **GPT Zeroshot & Fewshot - Humanitarian — Zeroshot Text Image - 4o mini Per-Category Metrics**"
      ],
      "text/plain": [
       "<IPython.core.display.Markdown object>"
      ]
     },
     "metadata": {},
     "output_type": "display_data"
    },
    {
     "name": "stdout",
     "output_type": "stream",
     "text": [
      "+---------+---------------------------------+-----------------+--------------+----------------+-----------+\n",
      "| Label   | Description                     |   Precision (%) |   Recall (%) |   F1 Score (%) | Support   |\n",
      "+=========+=================================+=================+==============+================+===========+\n",
      "| \u001b[91m0\u001b[0m       | \u001b[91mAffected individuals\u001b[0m            |           \u001b[91m15.09\u001b[0m |        \u001b[91m88.89\u001b[0m |          \u001b[91m25.81\u001b[0m | \u001b[91m9\u001b[0m         |\n",
      "+---------+---------------------------------+-----------------+--------------+----------------+-----------+\n",
      "| \u001b[91m1\u001b[0m       | \u001b[91mRescue/volunteering/donation\u001b[0m    |           \u001b[91m61.11\u001b[0m |        \u001b[91m96.03\u001b[0m |          \u001b[91m74.69\u001b[0m | \u001b[91m126\u001b[0m       |\n",
      "+---------+---------------------------------+-----------------+--------------+----------------+-----------+\n",
      "| \u001b[91m2\u001b[0m       | \u001b[91mInfrastructure & utility damage\u001b[0m |           \u001b[91m78.57\u001b[0m |        \u001b[91m81.48\u001b[0m |          \u001b[91m80\u001b[0m    | \u001b[91m81\u001b[0m        |\n",
      "+---------+---------------------------------+-----------------+--------------+----------------+-----------+\n",
      "| \u001b[91m3\u001b[0m       | \u001b[91mOther relevant info\u001b[0m             |           \u001b[91m78.14\u001b[0m |        \u001b[91m82.13\u001b[0m |          \u001b[91m80.08\u001b[0m | \u001b[91m235\u001b[0m       |\n",
      "+---------+---------------------------------+-----------------+--------------+----------------+-----------+\n",
      "| \u001b[91m4\u001b[0m       | \u001b[91mNot humanitarian\u001b[0m                |           \u001b[91m93.57\u001b[0m |        \u001b[91m69.25\u001b[0m |          \u001b[91m79.59\u001b[0m | \u001b[91m504\u001b[0m       |\n",
      "+---------+---------------------------------+-----------------+--------------+----------------+-----------+\n",
      "| \u001b[91m\u001b[0m        | \u001b[91mOverall accuracy: 77.17%\u001b[0m        |           \u001b[91m83.48\u001b[0m |        \u001b[91m77.17\u001b[0m |          \u001b[91m78.59\u001b[0m | \u001b[91m—\u001b[0m         |\n",
      "+---------+---------------------------------+-----------------+--------------+----------------+-----------+\n"
     ]
    },
    {
     "data": {
      "text/markdown": [
       "🗂️ **GPT Zeroshot & Fewshot - Humanitarian — OneShot Text Image  - 4o mini Per-Category Metrics**"
      ],
      "text/plain": [
       "<IPython.core.display.Markdown object>"
      ]
     },
     "metadata": {},
     "output_type": "display_data"
    },
    {
     "name": "stdout",
     "output_type": "stream",
     "text": [
      "+---------+---------------------------------+-----------------+--------------+----------------+-----------+\n",
      "| Label   | Description                     |   Precision (%) |   Recall (%) |   F1 Score (%) | Support   |\n",
      "+=========+=================================+=================+==============+================+===========+\n",
      "| \u001b[92m0\u001b[0m       | \u001b[92mAffected individuals\u001b[0m            |           \u001b[92m14.29\u001b[0m |        \u001b[92m88.89\u001b[0m |          \u001b[92m24.62\u001b[0m | \u001b[92m9\u001b[0m         |\n",
      "+---------+---------------------------------+-----------------+--------------+----------------+-----------+\n",
      "| \u001b[92m1\u001b[0m       | \u001b[92mRescue/volunteering/donation\u001b[0m    |           \u001b[92m65.03\u001b[0m |        \u001b[92m94.44\u001b[0m |          \u001b[92m77.02\u001b[0m | \u001b[92m126\u001b[0m       |\n",
      "+---------+---------------------------------+-----------------+--------------+----------------+-----------+\n",
      "| \u001b[92m2\u001b[0m       | \u001b[92mInfrastructure & utility damage\u001b[0m |           \u001b[92m79.07\u001b[0m |        \u001b[92m83.95\u001b[0m |          \u001b[92m81.44\u001b[0m | \u001b[92m81\u001b[0m        |\n",
      "+---------+---------------------------------+-----------------+--------------+----------------+-----------+\n",
      "| \u001b[92m3\u001b[0m       | \u001b[92mOther relevant info\u001b[0m             |           \u001b[92m81.43\u001b[0m |        \u001b[92m82.13\u001b[0m |          \u001b[92m81.78\u001b[0m | \u001b[92m235\u001b[0m       |\n",
      "+---------+---------------------------------+-----------------+--------------+----------------+-----------+\n",
      "| \u001b[92m4\u001b[0m       | \u001b[92mNot humanitarian\u001b[0m                |           \u001b[92m92.62\u001b[0m |        \u001b[92m72.22\u001b[0m |          \u001b[92m81.16\u001b[0m | \u001b[92m504\u001b[0m       |\n",
      "+---------+---------------------------------+-----------------+--------------+----------------+-----------+\n",
      "| \u001b[92m\u001b[0m        | \u001b[92mOverall accuracy: 78.74%\u001b[0m        |           \u001b[92m84.34\u001b[0m |        \u001b[92m78.74\u001b[0m |          \u001b[92m80.26\u001b[0m | \u001b[92m—\u001b[0m         |\n",
      "+---------+---------------------------------+-----------------+--------------+----------------+-----------+\n"
     ]
    },
    {
     "data": {
      "text/markdown": [
       "🗂️ **GPT Zeroshot & Fewshot - Humanitarian — FiveShot Text Image - 4o mini Per-Category Metrics**"
      ],
      "text/plain": [
       "<IPython.core.display.Markdown object>"
      ]
     },
     "metadata": {},
     "output_type": "display_data"
    },
    {
     "name": "stdout",
     "output_type": "stream",
     "text": [
      "+---------+---------------------------------+-----------------+--------------+----------------+-----------+\n",
      "| Label   | Description                     |   Precision (%) |   Recall (%) |   F1 Score (%) | Support   |\n",
      "+=========+=================================+=================+==============+================+===========+\n",
      "| \u001b[94m0\u001b[0m       | \u001b[94mAffected individuals\u001b[0m            |           \u001b[94m22.22\u001b[0m |        \u001b[94m88.89\u001b[0m |          \u001b[94m35.56\u001b[0m | \u001b[94m9\u001b[0m         |\n",
      "+---------+---------------------------------+-----------------+--------------+----------------+-----------+\n",
      "| \u001b[94m1\u001b[0m       | \u001b[94mRescue/volunteering/donation\u001b[0m    |           \u001b[94m64.71\u001b[0m |        \u001b[94m96.03\u001b[0m |          \u001b[94m77.32\u001b[0m | \u001b[94m126\u001b[0m       |\n",
      "+---------+---------------------------------+-----------------+--------------+----------------+-----------+\n",
      "| \u001b[94m2\u001b[0m       | \u001b[94mInfrastructure & utility damage\u001b[0m |           \u001b[94m68.87\u001b[0m |        \u001b[94m90.12\u001b[0m |          \u001b[94m78.07\u001b[0m | \u001b[94m81\u001b[0m        |\n",
      "+---------+---------------------------------+-----------------+--------------+----------------+-----------+\n",
      "| \u001b[94m3\u001b[0m       | \u001b[94mOther relevant info\u001b[0m             |           \u001b[94m78.97\u001b[0m |        \u001b[94m78.3\u001b[0m  |          \u001b[94m78.63\u001b[0m | \u001b[94m235\u001b[0m       |\n",
      "+---------+---------------------------------+-----------------+--------------+----------------+-----------+\n",
      "| \u001b[94m4\u001b[0m       | \u001b[94mNot humanitarian\u001b[0m                |           \u001b[94m91.09\u001b[0m |        \u001b[94m71.03\u001b[0m |          \u001b[94m79.82\u001b[0m | \u001b[94m504\u001b[0m       |\n",
      "+---------+---------------------------------+-----------------+--------------+----------------+-----------+\n",
      "| \u001b[94m\u001b[0m        | \u001b[94mOverall accuracy: 77.91%\u001b[0m        |           \u001b[94m82.09\u001b[0m |        \u001b[94m77.91\u001b[0m |          \u001b[94m78.63\u001b[0m | \u001b[94m—\u001b[0m         |\n",
      "+---------+---------------------------------+-----------------+--------------+----------------+-----------+\n"
     ]
    }
   ],
   "source": [
    "model_results = [\n",
    "    (\"Zeroshot Text Only  - 4o\", \"test_results/humanitarian/Test-17/gpt-4o-Zeroshot-Text-Only.json\", \"red\", False),\n",
    "    (\"OneShot Text Only   - 4o\", \"test_results/humanitarian/Test-17/gpt-4o-OneShot-Text-Only.json\", \"green\", False),\n",
    "    (\"FiveShot Text Only  - 4o\", \"test_results/humanitarian/Test-17/gpt-4o-5shot-Text-Only.json\", \"blue\", False),\n",
    "    (\"Fiveshots Text Only - 4o Inconsistent\", \"test_results/humanitarian/Test-17/gpt-4o-5shot-Inconsistent-Text-Only.json\", \"yellow\", True),\n",
    "    \n",
    "    (\"Zeroshot Image Only - 4o\", \"test_results/humanitarian/Test-17/gpt-4o-Zeroshot-Image-Only.json\", \"red\", False),\n",
    "    (\"OneShot Image Only  - 4o\", \"test_results/humanitarian/Test-17/gpt-4o-Oneshot-Image-Only.json\", \"green\", False),\n",
    "    (\"FiveShot Image Only - 4o\", \"test_results/humanitarian/Test-17/gpt-4o-5shot-Image-Only.json\", \"blue\", True),    \n",
    "    \n",
    "    \n",
    "    (\"Zeroshot Text Image - 4o\", \"test_results/humanitarian/Test-17/gpt-4o-Zeroshot-Text-Image.json\", \"red\", False),\n",
    "    (\"OneShot Text Image  - 4o\", \"test_results/humanitarian/Test-17/gpt-4o-Oneshot-Text-Image.json\", \"green\", False),\n",
    "    (\"FiveShot Text Image - 4o\", \"test_results/humanitarian/Test-17/gpt-4o-5shot-Text-Image.json\", \"blue\", True),  \n",
    "    \n",
    "  \n",
    "    (\"Zeroshot Text Only  - 4o mini\", \"test_results/humanitarian/Test-17/gpt-4o-mini-Zeroshot-Text-Only.json\", \"red\", False),\n",
    "    (\"OneShot Text Only   - 4o mini\", \"test_results/humanitarian/Test-17/gpt-4o-mini-Oneshot-Text-Only.json\", \"green\", False),\n",
    "    (\"FiveShot Text Only  - 4o mini\", \"test_results/humanitarian/Test-17/gpt-4o-mini-5shot-Text-Only.json\", \"blue\", True),\n",
    "    \n",
    "    (\"Zeroshot Image Only - 4o mini\", \"test_results/humanitarian/Test-17/gpt-4o-mini-Zeroshot-Image-Only.json\", \"red\", False),\n",
    "    (\"OneShot Image Only  - 4o mini\", \"test_results/humanitarian/Test-17/gpt-4o-mini-Oneshot-Image-Only.json\", \"green\", False),\n",
    "    (\"FiveShot Image Only - 4o mini\", \"test_results/humanitarian/Test-17/gpt-4o-mini-5shot-Image-Only.json\", \"blue\", True),    \n",
    "    \n",
    "    \n",
    "    (\"Zeroshot Text Image - 4o mini\", \"test_results/humanitarian/Test-17/gpt-4o-mini-Zeroshot-Text-Image.json\", \"red\", False),\n",
    "    (\"OneShot Text Image  - 4o mini\", \"test_results/humanitarian/Test-17/gpt-4o-mini-Oneshot-Text-Image.json\", \"green\", False),\n",
    "    (\"FiveShot Text Image - 4o mini\", \"test_results/humanitarian/Test-17/gpt-4o-mini-5shot-Text-Image.json\", \"blue\", False)    \n",
    "\n",
    "\n",
    "]\n",
    "\n",
    "#calculate_metrics_for_models(model_results, task=\"Tweet Humanitarian with GPT Fewshot\")\n",
    "\n",
    "calculate_metrics_with_category_breakdown(model_results, task=\"GPT Zeroshot & Fewshot - Humanitarian\")\n"
   ]
  },
  {
   "cell_type": "markdown",
   "id": "066e8ddf-1211-41f0-ad2d-977fea06759e",
   "metadata": {},
   "source": [
    "# LLAMA FEW-SHOTS - HUMANITARIAN"
   ]
  },
  {
   "cell_type": "code",
   "execution_count": 31,
   "id": "ff84669f-e721-481a-a602-ba519482f92e",
   "metadata": {},
   "outputs": [
    {
     "data": {
      "text/markdown": [
       "📊 **LLama Zeroshot & Fewshot - Humanitarian — Overall Performance Summary**"
      ],
      "text/plain": [
       "<IPython.core.display.Markdown object>"
      ]
     },
     "metadata": {},
     "output_type": "display_data"
    },
    {
     "name": "stdout",
     "output_type": "stream",
     "text": [
      "+------------------------------+----------------+-----------------+--------------+----------------+\n",
      "| Model                        |   Accuracy (%) |   Precision (%) |   Recall (%) |   F1 Score (%) |\n",
      "+==============================+================+=================+==============+================+\n",
      "| \u001b[91mZeroshot Text Only  - Llama\u001b[0m  |          \u001b[91m74.45\u001b[0m |           \u001b[91m78.43\u001b[0m |        \u001b[91m74.45\u001b[0m |          \u001b[91m74.09\u001b[0m |\n",
      "+------------------------------+----------------+-----------------+--------------+----------------+\n",
      "| \u001b[92mOneshot Text Only  - Llama\u001b[0m   |          \u001b[92m74.45\u001b[0m |           \u001b[92m77.21\u001b[0m |        \u001b[92m74.45\u001b[0m |          \u001b[92m75.09\u001b[0m |\n",
      "+------------------------------+----------------+-----------------+--------------+----------------+\n",
      "| \u001b[94mFiveshot Text Only  - Llama\u001b[0m  |          \u001b[94m71.52\u001b[0m |           \u001b[94m75.32\u001b[0m |        \u001b[94m71.52\u001b[0m |          \u001b[94m72.65\u001b[0m |\n",
      "+------------------------------+----------------+-----------------+--------------+----------------+\n",
      "| \u001b[91mZeroshot Image Only  - Llama\u001b[0m |          \u001b[91m76.54\u001b[0m |           \u001b[91m76.79\u001b[0m |        \u001b[91m76.54\u001b[0m |          \u001b[91m75.66\u001b[0m |\n",
      "+------------------------------+----------------+-----------------+--------------+----------------+\n",
      "| \u001b[92mOneshot Image Only   - Llama\u001b[0m |          \u001b[92m71.83\u001b[0m |           \u001b[92m74.45\u001b[0m |        \u001b[92m71.83\u001b[0m |          \u001b[92m69.68\u001b[0m |\n",
      "+------------------------------+----------------+-----------------+--------------+----------------+\n",
      "| \u001b[91mZeroshot Text Image  - Llama\u001b[0m |          \u001b[91m74.24\u001b[0m |           \u001b[91m76.05\u001b[0m |        \u001b[91m74.24\u001b[0m |          \u001b[91m73.59\u001b[0m |\n",
      "+------------------------------+----------------+-----------------+--------------+----------------+\n",
      "| \u001b[92mOneshot Text Image   - Llama\u001b[0m |          \u001b[92m68.59\u001b[0m |           \u001b[92m68.53\u001b[0m |        \u001b[92m68.59\u001b[0m |          \u001b[92m65.29\u001b[0m |\n",
      "+------------------------------+----------------+-----------------+--------------+----------------+\n"
     ]
    },
    {
     "data": {
      "text/markdown": [
       "🗂️ **LLama Zeroshot & Fewshot - Humanitarian — Zeroshot Text Only  - Llama Per-Category Metrics**"
      ],
      "text/plain": [
       "<IPython.core.display.Markdown object>"
      ]
     },
     "metadata": {},
     "output_type": "display_data"
    },
    {
     "name": "stdout",
     "output_type": "stream",
     "text": [
      "+---------+---------------------------------+-----------------+--------------+----------------+-----------+\n",
      "| Label   | Description                     |   Precision (%) |   Recall (%) |   F1 Score (%) | Support   |\n",
      "+=========+=================================+=================+==============+================+===========+\n",
      "| \u001b[91m0\u001b[0m       | \u001b[91mAffected individuals\u001b[0m            |           \u001b[91m35.29\u001b[0m |        \u001b[91m66.67\u001b[0m |          \u001b[91m46.15\u001b[0m | \u001b[91m9\u001b[0m         |\n",
      "+---------+---------------------------------+-----------------+--------------+----------------+-----------+\n",
      "| \u001b[91m1\u001b[0m       | \u001b[91mRescue/volunteering/donation\u001b[0m    |           \u001b[91m76.39\u001b[0m |        \u001b[91m87.3\u001b[0m  |          \u001b[91m81.48\u001b[0m | \u001b[91m126\u001b[0m       |\n",
      "+---------+---------------------------------+-----------------+--------------+----------------+-----------+\n",
      "| \u001b[91m2\u001b[0m       | \u001b[91mInfrastructure & utility damage\u001b[0m |          \u001b[91m100\u001b[0m    |        \u001b[91m27.16\u001b[0m |          \u001b[91m42.72\u001b[0m | \u001b[91m81\u001b[0m        |\n",
      "+---------+---------------------------------+-----------------+--------------+----------------+-----------+\n",
      "| \u001b[91m3\u001b[0m       | \u001b[91mOther relevant info\u001b[0m             |           \u001b[91m57.23\u001b[0m |        \u001b[91m77.45\u001b[0m |          \u001b[91m65.82\u001b[0m | \u001b[91m235\u001b[0m       |\n",
      "+---------+---------------------------------+-----------------+--------------+----------------+-----------+\n",
      "| \u001b[91m4\u001b[0m       | \u001b[91mNot humanitarian\u001b[0m                |           \u001b[91m86.12\u001b[0m |        \u001b[91m77.58\u001b[0m |          \u001b[91m81.63\u001b[0m | \u001b[91m504\u001b[0m       |\n",
      "+---------+---------------------------------+-----------------+--------------+----------------+-----------+\n",
      "| \u001b[91m\u001b[0m        | \u001b[91mOverall accuracy: 74.45%\u001b[0m        |           \u001b[91m78.43\u001b[0m |        \u001b[91m74.45\u001b[0m |          \u001b[91m74.09\u001b[0m | \u001b[91m—\u001b[0m         |\n",
      "+---------+---------------------------------+-----------------+--------------+----------------+-----------+\n"
     ]
    },
    {
     "data": {
      "text/markdown": [
       "🗂️ **LLama Zeroshot & Fewshot - Humanitarian — Oneshot Text Only  - Llama Per-Category Metrics**"
      ],
      "text/plain": [
       "<IPython.core.display.Markdown object>"
      ]
     },
     "metadata": {},
     "output_type": "display_data"
    },
    {
     "name": "stdout",
     "output_type": "stream",
     "text": [
      "+---------+---------------------------------+-----------------+--------------+----------------+-----------+\n",
      "| Label   | Description                     |   Precision (%) |   Recall (%) |   F1 Score (%) | Support   |\n",
      "+=========+=================================+=================+==============+================+===========+\n",
      "| \u001b[92m0\u001b[0m       | \u001b[92mAffected individuals\u001b[0m            |           \u001b[92m22.22\u001b[0m |        \u001b[92m66.67\u001b[0m |          \u001b[92m33.33\u001b[0m | \u001b[92m9\u001b[0m         |\n",
      "+---------+---------------------------------+-----------------+--------------+----------------+-----------+\n",
      "| \u001b[92m1\u001b[0m       | \u001b[92mRescue/volunteering/donation\u001b[0m    |           \u001b[92m68.52\u001b[0m |        \u001b[92m88.1\u001b[0m  |          \u001b[92m77.08\u001b[0m | \u001b[92m126\u001b[0m       |\n",
      "+---------+---------------------------------+-----------------+--------------+----------------+-----------+\n",
      "| \u001b[92m2\u001b[0m       | \u001b[92mInfrastructure & utility damage\u001b[0m |           \u001b[92m64.1\u001b[0m  |        \u001b[92m61.73\u001b[0m |          \u001b[92m62.89\u001b[0m | \u001b[92m81\u001b[0m        |\n",
      "+---------+---------------------------------+-----------------+--------------+----------------+-----------+\n",
      "| \u001b[92m3\u001b[0m       | \u001b[92mOther relevant info\u001b[0m             |           \u001b[92m65.31\u001b[0m |        \u001b[92m75.32\u001b[0m |          \u001b[92m69.96\u001b[0m | \u001b[92m235\u001b[0m       |\n",
      "+---------+---------------------------------+-----------------+--------------+----------------+-----------+\n",
      "| \u001b[92m4\u001b[0m       | \u001b[92mNot humanitarian\u001b[0m                |           \u001b[92m88.01\u001b[0m |        \u001b[92m72.82\u001b[0m |          \u001b[92m79.7\u001b[0m  | \u001b[92m504\u001b[0m       |\n",
      "+---------+---------------------------------+-----------------+--------------+----------------+-----------+\n",
      "| \u001b[92m\u001b[0m        | \u001b[92mOverall accuracy: 74.45%\u001b[0m        |           \u001b[92m77.21\u001b[0m |        \u001b[92m74.45\u001b[0m |          \u001b[92m75.09\u001b[0m | \u001b[92m—\u001b[0m         |\n",
      "+---------+---------------------------------+-----------------+--------------+----------------+-----------+\n"
     ]
    },
    {
     "data": {
      "text/markdown": [
       "🗂️ **LLama Zeroshot & Fewshot - Humanitarian — Fiveshot Text Only  - Llama Per-Category Metrics**"
      ],
      "text/plain": [
       "<IPython.core.display.Markdown object>"
      ]
     },
     "metadata": {},
     "output_type": "display_data"
    },
    {
     "name": "stdout",
     "output_type": "stream",
     "text": [
      "+---------+---------------------------------+-----------------+--------------+----------------+-----------+\n",
      "| Label   | Description                     |   Precision (%) |   Recall (%) |   F1 Score (%) | Support   |\n",
      "+=========+=================================+=================+==============+================+===========+\n",
      "| \u001b[94m0\u001b[0m       | \u001b[94mAffected individuals\u001b[0m            |           \u001b[94m14.29\u001b[0m |        \u001b[94m66.67\u001b[0m |          \u001b[94m23.53\u001b[0m | \u001b[94m9\u001b[0m         |\n",
      "+---------+---------------------------------+-----------------+--------------+----------------+-----------+\n",
      "| \u001b[94m1\u001b[0m       | \u001b[94mRescue/volunteering/donation\u001b[0m    |           \u001b[94m68.87\u001b[0m |        \u001b[94m82.54\u001b[0m |          \u001b[94m75.09\u001b[0m | \u001b[94m126\u001b[0m       |\n",
      "+---------+---------------------------------+-----------------+--------------+----------------+-----------+\n",
      "| \u001b[94m2\u001b[0m       | \u001b[94mInfrastructure & utility damage\u001b[0m |           \u001b[94m53.95\u001b[0m |        \u001b[94m50.62\u001b[0m |          \u001b[94m52.23\u001b[0m | \u001b[94m81\u001b[0m        |\n",
      "+---------+---------------------------------+-----------------+--------------+----------------+-----------+\n",
      "| \u001b[94m3\u001b[0m       | \u001b[94mOther relevant info\u001b[0m             |           \u001b[94m63.14\u001b[0m |        \u001b[94m73.62\u001b[0m |          \u001b[94m67.98\u001b[0m | \u001b[94m235\u001b[0m       |\n",
      "+---------+---------------------------------+-----------------+--------------+----------------+-----------+\n",
      "| \u001b[94m4\u001b[0m       | \u001b[94mNot humanitarian\u001b[0m                |           \u001b[94m87.14\u001b[0m |        \u001b[94m71.23\u001b[0m |          \u001b[94m78.38\u001b[0m | \u001b[94m504\u001b[0m       |\n",
      "+---------+---------------------------------+-----------------+--------------+----------------+-----------+\n",
      "| \u001b[94m\u001b[0m        | \u001b[94mOverall accuracy: 71.52%\u001b[0m        |           \u001b[94m75.32\u001b[0m |        \u001b[94m71.52\u001b[0m |          \u001b[94m72.65\u001b[0m | \u001b[94m—\u001b[0m         |\n",
      "+---------+---------------------------------+-----------------+--------------+----------------+-----------+\n",
      "\n",
      "================================================================================\n",
      "\n"
     ]
    },
    {
     "data": {
      "text/markdown": [
       "🗂️ **LLama Zeroshot & Fewshot - Humanitarian — Zeroshot Image Only  - Llama Per-Category Metrics**"
      ],
      "text/plain": [
       "<IPython.core.display.Markdown object>"
      ]
     },
     "metadata": {},
     "output_type": "display_data"
    },
    {
     "name": "stdout",
     "output_type": "stream",
     "text": [
      "+---------+---------------------------------+-----------------+--------------+----------------+-----------+\n",
      "| Label   | Description                     |   Precision (%) |   Recall (%) |   F1 Score (%) | Support   |\n",
      "+=========+=================================+=================+==============+================+===========+\n",
      "| \u001b[91m0\u001b[0m       | \u001b[91mAffected individuals\u001b[0m            |           \u001b[91m36.36\u001b[0m |        \u001b[91m44.44\u001b[0m |          \u001b[91m40\u001b[0m    | \u001b[91m9\u001b[0m         |\n",
      "+---------+---------------------------------+-----------------+--------------+----------------+-----------+\n",
      "| \u001b[91m1\u001b[0m       | \u001b[91mRescue/volunteering/donation\u001b[0m    |           \u001b[91m78.08\u001b[0m |        \u001b[91m45.24\u001b[0m |          \u001b[91m57.29\u001b[0m | \u001b[91m126\u001b[0m       |\n",
      "+---------+---------------------------------+-----------------+--------------+----------------+-----------+\n",
      "| \u001b[91m2\u001b[0m       | \u001b[91mInfrastructure & utility damage\u001b[0m |           \u001b[91m72\u001b[0m    |        \u001b[91m66.67\u001b[0m |          \u001b[91m69.23\u001b[0m | \u001b[91m81\u001b[0m        |\n",
      "+---------+---------------------------------+-----------------+--------------+----------------+-----------+\n",
      "| \u001b[91m3\u001b[0m       | \u001b[91mOther relevant info\u001b[0m             |           \u001b[91m79.6\u001b[0m  |        \u001b[91m68.09\u001b[0m |          \u001b[91m73.39\u001b[0m | \u001b[91m235\u001b[0m       |\n",
      "+---------+---------------------------------+-----------------+--------------+----------------+-----------+\n",
      "| \u001b[91m4\u001b[0m       | \u001b[91mNot humanitarian\u001b[0m                |           \u001b[91m76.64\u001b[0m |        \u001b[91m90.48\u001b[0m |          \u001b[91m82.98\u001b[0m | \u001b[91m504\u001b[0m       |\n",
      "+---------+---------------------------------+-----------------+--------------+----------------+-----------+\n",
      "| \u001b[91m\u001b[0m        | \u001b[91mOverall accuracy: 76.54%\u001b[0m        |           \u001b[91m76.79\u001b[0m |        \u001b[91m76.54\u001b[0m |          \u001b[91m75.66\u001b[0m | \u001b[91m—\u001b[0m         |\n",
      "+---------+---------------------------------+-----------------+--------------+----------------+-----------+\n"
     ]
    },
    {
     "data": {
      "text/markdown": [
       "🗂️ **LLama Zeroshot & Fewshot - Humanitarian — Oneshot Image Only   - Llama Per-Category Metrics**"
      ],
      "text/plain": [
       "<IPython.core.display.Markdown object>"
      ]
     },
     "metadata": {},
     "output_type": "display_data"
    },
    {
     "name": "stdout",
     "output_type": "stream",
     "text": [
      "+---------+---------------------------------+-----------------+--------------+----------------+-----------+\n",
      "| Label   | Description                     |   Precision (%) |   Recall (%) |   F1 Score (%) | Support   |\n",
      "+=========+=================================+=================+==============+================+===========+\n",
      "| \u001b[92m0\u001b[0m       | \u001b[92mAffected individuals\u001b[0m            |           \u001b[92m60\u001b[0m    |        \u001b[92m33.33\u001b[0m |          \u001b[92m42.86\u001b[0m | \u001b[92m9\u001b[0m         |\n",
      "+---------+---------------------------------+-----------------+--------------+----------------+-----------+\n",
      "| \u001b[92m1\u001b[0m       | \u001b[92mRescue/volunteering/donation\u001b[0m    |           \u001b[92m70.37\u001b[0m |        \u001b[92m45.24\u001b[0m |          \u001b[92m55.07\u001b[0m | \u001b[92m126\u001b[0m       |\n",
      "+---------+---------------------------------+-----------------+--------------+----------------+-----------+\n",
      "| \u001b[92m2\u001b[0m       | \u001b[92mInfrastructure & utility damage\u001b[0m |           \u001b[92m67.14\u001b[0m |        \u001b[92m58.02\u001b[0m |          \u001b[92m62.25\u001b[0m | \u001b[92m81\u001b[0m        |\n",
      "+---------+---------------------------------+-----------------+--------------+----------------+-----------+\n",
      "| \u001b[92m3\u001b[0m       | \u001b[92mOther relevant info\u001b[0m             |           \u001b[92m90.27\u001b[0m |        \u001b[92m43.4\u001b[0m  |          \u001b[92m58.62\u001b[0m | \u001b[92m235\u001b[0m       |\n",
      "+---------+---------------------------------+-----------------+--------------+----------------+-----------+\n",
      "| \u001b[92m4\u001b[0m       | \u001b[92mNot humanitarian\u001b[0m                |           \u001b[92m69.53\u001b[0m |        \u001b[92m94.64\u001b[0m |          \u001b[92m80.17\u001b[0m | \u001b[92m504\u001b[0m       |\n",
      "+---------+---------------------------------+-----------------+--------------+----------------+-----------+\n",
      "| \u001b[92m\u001b[0m        | \u001b[92mOverall accuracy: 71.83%\u001b[0m        |           \u001b[92m74.45\u001b[0m |        \u001b[92m71.83\u001b[0m |          \u001b[92m69.68\u001b[0m | \u001b[92m—\u001b[0m         |\n",
      "+---------+---------------------------------+-----------------+--------------+----------------+-----------+\n",
      "\n",
      "================================================================================\n",
      "\n"
     ]
    },
    {
     "data": {
      "text/markdown": [
       "🗂️ **LLama Zeroshot & Fewshot - Humanitarian — Zeroshot Text Image  - Llama Per-Category Metrics**"
      ],
      "text/plain": [
       "<IPython.core.display.Markdown object>"
      ]
     },
     "metadata": {},
     "output_type": "display_data"
    },
    {
     "name": "stdout",
     "output_type": "stream",
     "text": [
      "+---------+---------------------------------+-----------------+--------------+----------------+-----------+\n",
      "| Label   | Description                     |   Precision (%) |   Recall (%) |   F1 Score (%) | Support   |\n",
      "+=========+=================================+=================+==============+================+===========+\n",
      "| \u001b[91m0\u001b[0m       | \u001b[91mAffected individuals\u001b[0m            |           \u001b[91m25\u001b[0m    |        \u001b[91m33.33\u001b[0m |          \u001b[91m28.57\u001b[0m | \u001b[91m9\u001b[0m         |\n",
      "+---------+---------------------------------+-----------------+--------------+----------------+-----------+\n",
      "| \u001b[91m1\u001b[0m       | \u001b[91mRescue/volunteering/donation\u001b[0m    |           \u001b[91m70\u001b[0m    |        \u001b[91m72.22\u001b[0m |          \u001b[91m71.09\u001b[0m | \u001b[91m126\u001b[0m       |\n",
      "+---------+---------------------------------+-----------------+--------------+----------------+-----------+\n",
      "| \u001b[91m2\u001b[0m       | \u001b[91mInfrastructure & utility damage\u001b[0m |          \u001b[91m100\u001b[0m    |        \u001b[91m32.1\u001b[0m  |          \u001b[91m48.6\u001b[0m  | \u001b[91m81\u001b[0m        |\n",
      "+---------+---------------------------------+-----------------+--------------+----------------+-----------+\n",
      "| \u001b[91m3\u001b[0m       | \u001b[91mOther relevant info\u001b[0m             |           \u001b[91m64.12\u001b[0m |        \u001b[91m71.49\u001b[0m |          \u001b[91m67.61\u001b[0m | \u001b[91m235\u001b[0m       |\n",
      "+---------+---------------------------------+-----------------+--------------+----------------+-----------+\n",
      "| \u001b[91m4\u001b[0m       | \u001b[91mNot humanitarian\u001b[0m                |           \u001b[91m80.19\u001b[0m |        \u001b[91m83.53\u001b[0m |          \u001b[91m81.83\u001b[0m | \u001b[91m504\u001b[0m       |\n",
      "+---------+---------------------------------+-----------------+--------------+----------------+-----------+\n",
      "| \u001b[91m\u001b[0m        | \u001b[91mOverall accuracy: 74.24%\u001b[0m        |           \u001b[91m76.05\u001b[0m |        \u001b[91m74.24\u001b[0m |          \u001b[91m73.59\u001b[0m | \u001b[91m—\u001b[0m         |\n",
      "+---------+---------------------------------+-----------------+--------------+----------------+-----------+\n"
     ]
    },
    {
     "data": {
      "text/markdown": [
       "🗂️ **LLama Zeroshot & Fewshot - Humanitarian — Oneshot Text Image   - Llama Per-Category Metrics**"
      ],
      "text/plain": [
       "<IPython.core.display.Markdown object>"
      ]
     },
     "metadata": {},
     "output_type": "display_data"
    },
    {
     "name": "stdout",
     "output_type": "stream",
     "text": [
      "+---------+---------------------------------+-----------------+--------------+----------------+-----------+\n",
      "| Label   | Description                     |   Precision (%) |   Recall (%) |   F1 Score (%) | Support   |\n",
      "+=========+=================================+=================+==============+================+===========+\n",
      "| \u001b[92m0\u001b[0m       | \u001b[92mAffected individuals\u001b[0m            |          \u001b[92m100\u001b[0m    |        \u001b[92m11.11\u001b[0m |          \u001b[92m20\u001b[0m    | \u001b[92m9\u001b[0m         |\n",
      "+---------+---------------------------------+-----------------+--------------+----------------+-----------+\n",
      "| \u001b[92m1\u001b[0m       | \u001b[92mRescue/volunteering/donation\u001b[0m    |           \u001b[92m72.81\u001b[0m |        \u001b[92m65.87\u001b[0m |          \u001b[92m69.17\u001b[0m | \u001b[92m126\u001b[0m       |\n",
      "+---------+---------------------------------+-----------------+--------------+----------------+-----------+\n",
      "| \u001b[92m2\u001b[0m       | \u001b[92mInfrastructure & utility damage\u001b[0m |           \u001b[92m64\u001b[0m    |        \u001b[92m59.26\u001b[0m |          \u001b[92m61.54\u001b[0m | \u001b[92m81\u001b[0m        |\n",
      "+---------+---------------------------------+-----------------+--------------+----------------+-----------+\n",
      "| \u001b[92m3\u001b[0m       | \u001b[92mOther relevant info\u001b[0m             |           \u001b[92m66.32\u001b[0m |        \u001b[92m26.81\u001b[0m |          \u001b[92m38.18\u001b[0m | \u001b[92m235\u001b[0m       |\n",
      "+---------+---------------------------------+-----------------+--------------+----------------+-----------+\n",
      "| \u001b[92m4\u001b[0m       | \u001b[92mNot humanitarian\u001b[0m                |           \u001b[92m68.66\u001b[0m |        \u001b[92m91.27\u001b[0m |          \u001b[92m78.36\u001b[0m | \u001b[92m504\u001b[0m       |\n",
      "+---------+---------------------------------+-----------------+--------------+----------------+-----------+\n",
      "| \u001b[92m\u001b[0m        | \u001b[92mOverall accuracy: 68.59%\u001b[0m        |           \u001b[92m68.53\u001b[0m |        \u001b[92m68.59\u001b[0m |          \u001b[92m65.29\u001b[0m | \u001b[92m—\u001b[0m         |\n",
      "+---------+---------------------------------+-----------------+--------------+----------------+-----------+\n"
     ]
    }
   ],
   "source": [
    "model_results = [\n",
    "    (\"Zeroshot Text Only  - Llama\", \"test_results/humanitarian/Test-23/Llama-3.2-11B-Huma-Zeroshot-Text-Only.json\", \"red\", False),\n",
    "    (\"Oneshot Text Only  - Llama\", \"test_results/humanitarian/Test-23/Llama-3.2-11B-Huma-Oneshot-Text-Only.json\", \"green\", False),\n",
    "    (\"Fiveshot Text Only  - Llama\", \"test_results/humanitarian/Test-23/Llama-3.2-11B-Huma-Fiveshot-Text-Only.json\", \"blue\", True),\n",
    "   \n",
    "    (\"Zeroshot Image Only  - Llama\", \"test_results/humanitarian/Test-23/Llama-3.2-11B-Huma-Zeroshot-Image-Only.json\", \"red\", False),\n",
    "    (\"Oneshot Image Only   - Llama\", \"test_results/humanitarian/Test-23/Llama-3.2-11B-Huma-Oneshot-Image-Only.json\", \"green\", True),\n",
    "\n",
    "    (\"Zeroshot Text Image  - Llama\", \"test_results/humanitarian/Test-23/Llama-3.2-11B-Huma-Zeroshot-Text-Image.json\", \"red\", False),\n",
    "    (\"Oneshot Text Image   - Llama\", \"test_results/humanitarian/Test-23/Llama-3.2-11B-Huma-Oneshot-Text-Image.json\", \"green\", False)   \n",
    "]\n",
    "\n",
    "calculate_metrics_with_category_breakdown(model_results, task=\"LLama Zeroshot & Fewshot - Humanitarian\")\n"
   ]
  },
  {
   "cell_type": "markdown",
   "id": "d96378bd-1c47-4975-8e68-78de2161eaec",
   "metadata": {},
   "source": [
    "# LLAMA FEW-SHOTS - INFORMATIVE"
   ]
  },
  {
   "cell_type": "code",
   "execution_count": 32,
   "id": "c5e82c38-c61d-40cf-9cd2-f87d4eecb02e",
   "metadata": {},
   "outputs": [
    {
     "data": {
      "text/markdown": [
       "📊 **LLama Zeroshot & Fewshot - Informative — Overall Performance Summary**"
      ],
      "text/plain": [
       "<IPython.core.display.Markdown object>"
      ]
     },
     "metadata": {},
     "output_type": "display_data"
    },
    {
     "name": "stdout",
     "output_type": "stream",
     "text": [
      "+------------------------------+----------------+-----------------+--------------+----------------+\n",
      "| Model                        |   Accuracy (%) |   Precision (%) |   Recall (%) |   F1 Score (%) |\n",
      "+==============================+================+=================+==============+================+\n",
      "| \u001b[91mZeroshot Text Only  - Llama\u001b[0m  |          \u001b[91m83.57\u001b[0m |           \u001b[91m83.28\u001b[0m |        \u001b[91m83.57\u001b[0m |          \u001b[91m83.22\u001b[0m |\n",
      "+------------------------------+----------------+-----------------+--------------+----------------+\n",
      "| \u001b[92mOneshot Text Only  - Llama\u001b[0m   |          \u001b[92m82.79\u001b[0m |           \u001b[92m84.46\u001b[0m |        \u001b[92m82.79\u001b[0m |          \u001b[92m81.22\u001b[0m |\n",
      "+------------------------------+----------------+-----------------+--------------+----------------+\n",
      "| \u001b[94mFiveshot Text Only  - Llama\u001b[0m  |          \u001b[94m82.53\u001b[0m |           \u001b[94m83.82\u001b[0m |        \u001b[94m82.53\u001b[0m |          \u001b[94m81.04\u001b[0m |\n",
      "+------------------------------+----------------+-----------------+--------------+----------------+\n",
      "| \u001b[91mZeroshot Image Only  - Llama\u001b[0m |          \u001b[91m86.05\u001b[0m |           \u001b[91m86.57\u001b[0m |        \u001b[91m86.05\u001b[0m |          \u001b[91m85.34\u001b[0m |\n",
      "+------------------------------+----------------+-----------------+--------------+----------------+\n",
      "| \u001b[92mOneshot Image Only   - Llama\u001b[0m |          \u001b[92m73.92\u001b[0m |           \u001b[92m79.88\u001b[0m |        \u001b[92m73.92\u001b[0m |          \u001b[92m67.77\u001b[0m |\n",
      "+------------------------------+----------------+-----------------+--------------+----------------+\n",
      "| \u001b[91mZeroshot Text Image  - Llama\u001b[0m |          \u001b[91m79.99\u001b[0m |           \u001b[91m83.93\u001b[0m |        \u001b[91m79.99\u001b[0m |          \u001b[91m77.07\u001b[0m |\n",
      "+------------------------------+----------------+-----------------+--------------+----------------+\n",
      "| \u001b[92mOneshot Text Image   - Llama\u001b[0m |          \u001b[92m66.23\u001b[0m |           \u001b[92m73.59\u001b[0m |        \u001b[92m66.23\u001b[0m |          \u001b[92m67.21\u001b[0m |\n",
      "+------------------------------+----------------+-----------------+--------------+----------------+\n"
     ]
    },
    {
     "data": {
      "text/markdown": [
       "🗂️ **LLama Zeroshot & Fewshot - Informative — Zeroshot Text Only  - Llama Per-Category Metrics**"
      ],
      "text/plain": [
       "<IPython.core.display.Markdown object>"
      ]
     },
     "metadata": {},
     "output_type": "display_data"
    },
    {
     "name": "stdout",
     "output_type": "stream",
     "text": [
      "+---------+--------------------------+-----------------+--------------+----------------+-----------+\n",
      "| Label   | Description              |   Precision (%) |   Recall (%) |   F1 Score (%) | Support   |\n",
      "+=========+==========================+=================+==============+================+===========+\n",
      "| \u001b[91m0\u001b[0m       | \u001b[91mNot informative\u001b[0m          |           \u001b[91m79.17\u001b[0m |        \u001b[91m67.86\u001b[0m |          \u001b[91m73.08\u001b[0m | \u001b[91m504\u001b[0m       |\n",
      "+---------+--------------------------+-----------------+--------------+----------------+-----------+\n",
      "| \u001b[91m1\u001b[0m       | \u001b[91mInformative\u001b[0m              |           \u001b[91m85.3\u001b[0m  |        \u001b[91m91.26\u001b[0m |          \u001b[91m88.18\u001b[0m | \u001b[91m1030\u001b[0m      |\n",
      "+---------+--------------------------+-----------------+--------------+----------------+-----------+\n",
      "| \u001b[91m\u001b[0m        | \u001b[91mOverall accuracy: 83.57%\u001b[0m |           \u001b[91m83.28\u001b[0m |        \u001b[91m83.57\u001b[0m |          \u001b[91m83.22\u001b[0m | \u001b[91m—\u001b[0m         |\n",
      "+---------+--------------------------+-----------------+--------------+----------------+-----------+\n"
     ]
    },
    {
     "data": {
      "text/markdown": [
       "🗂️ **LLama Zeroshot & Fewshot - Informative — Oneshot Text Only  - Llama Per-Category Metrics**"
      ],
      "text/plain": [
       "<IPython.core.display.Markdown object>"
      ]
     },
     "metadata": {},
     "output_type": "display_data"
    },
    {
     "name": "stdout",
     "output_type": "stream",
     "text": [
      "+---------+--------------------------+-----------------+--------------+----------------+-----------+\n",
      "| Label   | Description              |   Precision (%) |   Recall (%) |   F1 Score (%) | Support   |\n",
      "+=========+==========================+=================+==============+================+===========+\n",
      "| \u001b[92m0\u001b[0m       | \u001b[92mNot informative\u001b[0m          |           \u001b[92m92.25\u001b[0m |        \u001b[92m51.98\u001b[0m |          \u001b[92m66.5\u001b[0m  | \u001b[92m504\u001b[0m       |\n",
      "+---------+--------------------------+-----------------+--------------+----------------+-----------+\n",
      "| \u001b[92m1\u001b[0m       | \u001b[92mInformative\u001b[0m              |           \u001b[92m80.64\u001b[0m |        \u001b[92m97.86\u001b[0m |          \u001b[92m88.42\u001b[0m | \u001b[92m1030\u001b[0m      |\n",
      "+---------+--------------------------+-----------------+--------------+----------------+-----------+\n",
      "| \u001b[92m\u001b[0m        | \u001b[92mOverall accuracy: 82.79%\u001b[0m |           \u001b[92m84.46\u001b[0m |        \u001b[92m82.79\u001b[0m |          \u001b[92m81.22\u001b[0m | \u001b[92m—\u001b[0m         |\n",
      "+---------+--------------------------+-----------------+--------------+----------------+-----------+\n"
     ]
    },
    {
     "data": {
      "text/markdown": [
       "🗂️ **LLama Zeroshot & Fewshot - Informative — Fiveshot Text Only  - Llama Per-Category Metrics**"
      ],
      "text/plain": [
       "<IPython.core.display.Markdown object>"
      ]
     },
     "metadata": {},
     "output_type": "display_data"
    },
    {
     "name": "stdout",
     "output_type": "stream",
     "text": [
      "+---------+--------------------------+-----------------+--------------+----------------+-----------+\n",
      "| Label   | Description              |   Precision (%) |   Recall (%) |   F1 Score (%) | Support   |\n",
      "+=========+==========================+=================+==============+================+===========+\n",
      "| \u001b[94m0\u001b[0m       | \u001b[94mNot informative\u001b[0m          |           \u001b[94m90.14\u001b[0m |        \u001b[94m52.58\u001b[0m |          \u001b[94m66.42\u001b[0m | \u001b[94m504\u001b[0m       |\n",
      "+---------+--------------------------+-----------------+--------------+----------------+-----------+\n",
      "| \u001b[94m1\u001b[0m       | \u001b[94mInformative\u001b[0m              |           \u001b[94m80.73\u001b[0m |        \u001b[94m97.18\u001b[0m |          \u001b[94m88.19\u001b[0m | \u001b[94m1030\u001b[0m      |\n",
      "+---------+--------------------------+-----------------+--------------+----------------+-----------+\n",
      "| \u001b[94m\u001b[0m        | \u001b[94mOverall accuracy: 82.53%\u001b[0m |           \u001b[94m83.82\u001b[0m |        \u001b[94m82.53\u001b[0m |          \u001b[94m81.04\u001b[0m | \u001b[94m—\u001b[0m         |\n",
      "+---------+--------------------------+-----------------+--------------+----------------+-----------+\n",
      "\n",
      "================================================================================\n",
      "\n"
     ]
    },
    {
     "data": {
      "text/markdown": [
       "🗂️ **LLama Zeroshot & Fewshot - Informative — Zeroshot Image Only  - Llama Per-Category Metrics**"
      ],
      "text/plain": [
       "<IPython.core.display.Markdown object>"
      ]
     },
     "metadata": {},
     "output_type": "display_data"
    },
    {
     "name": "stdout",
     "output_type": "stream",
     "text": [
      "+---------+--------------------------+-----------------+--------------+----------------+-----------+\n",
      "| Label   | Description              |   Precision (%) |   Recall (%) |   F1 Score (%) | Support   |\n",
      "+=========+==========================+=================+==============+================+===========+\n",
      "| \u001b[91m0\u001b[0m       | \u001b[91mNot informative\u001b[0m          |           \u001b[91m90.28\u001b[0m |        \u001b[91m64.48\u001b[0m |          \u001b[91m75.23\u001b[0m | \u001b[91m504\u001b[0m       |\n",
      "+---------+--------------------------+-----------------+--------------+----------------+-----------+\n",
      "| \u001b[91m1\u001b[0m       | \u001b[91mInformative\u001b[0m              |           \u001b[91m84.75\u001b[0m |        \u001b[91m96.6\u001b[0m  |          \u001b[91m90.29\u001b[0m | \u001b[91m1030\u001b[0m      |\n",
      "+---------+--------------------------+-----------------+--------------+----------------+-----------+\n",
      "| \u001b[91m\u001b[0m        | \u001b[91mOverall accuracy: 86.05%\u001b[0m |           \u001b[91m86.57\u001b[0m |        \u001b[91m86.05\u001b[0m |          \u001b[91m85.34\u001b[0m | \u001b[91m—\u001b[0m         |\n",
      "+---------+--------------------------+-----------------+--------------+----------------+-----------+\n"
     ]
    },
    {
     "data": {
      "text/markdown": [
       "🗂️ **LLama Zeroshot & Fewshot - Informative — Oneshot Image Only   - Llama Per-Category Metrics**"
      ],
      "text/plain": [
       "<IPython.core.display.Markdown object>"
      ]
     },
     "metadata": {},
     "output_type": "display_data"
    },
    {
     "name": "stdout",
     "output_type": "stream",
     "text": [
      "+---------+--------------------------+-----------------+--------------+----------------+-----------+\n",
      "| Label   | Description              |   Precision (%) |   Recall (%) |   F1 Score (%) | Support   |\n",
      "+=========+==========================+=================+==============+================+===========+\n",
      "| \u001b[92m0\u001b[0m       | \u001b[92mNot informative\u001b[0m          |           \u001b[92m95.61\u001b[0m |        \u001b[92m21.63\u001b[0m |          \u001b[92m35.28\u001b[0m | \u001b[92m504\u001b[0m       |\n",
      "+---------+--------------------------+-----------------+--------------+----------------+-----------+\n",
      "| \u001b[92m1\u001b[0m       | \u001b[92mInformative\u001b[0m              |           \u001b[92m72.18\u001b[0m |        \u001b[92m99.51\u001b[0m |          \u001b[92m83.67\u001b[0m | \u001b[92m1030\u001b[0m      |\n",
      "+---------+--------------------------+-----------------+--------------+----------------+-----------+\n",
      "| \u001b[92m\u001b[0m        | \u001b[92mOverall accuracy: 73.92%\u001b[0m |           \u001b[92m79.88\u001b[0m |        \u001b[92m73.92\u001b[0m |          \u001b[92m67.77\u001b[0m | \u001b[92m—\u001b[0m         |\n",
      "+---------+--------------------------+-----------------+--------------+----------------+-----------+\n",
      "\n",
      "================================================================================\n",
      "\n"
     ]
    },
    {
     "data": {
      "text/markdown": [
       "🗂️ **LLama Zeroshot & Fewshot - Informative — Zeroshot Text Image  - Llama Per-Category Metrics**"
      ],
      "text/plain": [
       "<IPython.core.display.Markdown object>"
      ]
     },
     "metadata": {},
     "output_type": "display_data"
    },
    {
     "name": "stdout",
     "output_type": "stream",
     "text": [
      "+---------+--------------------------+-----------------+--------------+----------------+-----------+\n",
      "| Label   | Description              |   Precision (%) |   Recall (%) |   F1 Score (%) | Support   |\n",
      "+=========+==========================+=================+==============+================+===========+\n",
      "| \u001b[91m0\u001b[0m       | \u001b[91mNot informative\u001b[0m          |           \u001b[91m97.58\u001b[0m |        \u001b[91m40.08\u001b[0m |          \u001b[91m56.82\u001b[0m | \u001b[91m504\u001b[0m       |\n",
      "+---------+--------------------------+-----------------+--------------+----------------+-----------+\n",
      "| \u001b[91m1\u001b[0m       | \u001b[91mInformative\u001b[0m              |           \u001b[91m77.24\u001b[0m |        \u001b[91m99.51\u001b[0m |          \u001b[91m86.97\u001b[0m | \u001b[91m1030\u001b[0m      |\n",
      "+---------+--------------------------+-----------------+--------------+----------------+-----------+\n",
      "| \u001b[91m\u001b[0m        | \u001b[91mOverall accuracy: 79.99%\u001b[0m |           \u001b[91m83.93\u001b[0m |        \u001b[91m79.99\u001b[0m |          \u001b[91m77.07\u001b[0m | \u001b[91m—\u001b[0m         |\n",
      "+---------+--------------------------+-----------------+--------------+----------------+-----------+\n"
     ]
    },
    {
     "data": {
      "text/markdown": [
       "🗂️ **LLama Zeroshot & Fewshot - Informative — Oneshot Text Image   - Llama Per-Category Metrics**"
      ],
      "text/plain": [
       "<IPython.core.display.Markdown object>"
      ]
     },
     "metadata": {},
     "output_type": "display_data"
    },
    {
     "name": "stdout",
     "output_type": "stream",
     "text": [
      "+---------+--------------------------+-----------------+--------------+----------------+-----------+\n",
      "| Label   | Description              |   Precision (%) |   Recall (%) |   F1 Score (%) | Support   |\n",
      "+=========+==========================+=================+==============+================+===========+\n",
      "| \u001b[92m0\u001b[0m       | \u001b[92mNot informative\u001b[0m          |           \u001b[92m49.14\u001b[0m |        \u001b[92m79.37\u001b[0m |          \u001b[92m60.7\u001b[0m  | \u001b[92m504\u001b[0m       |\n",
      "+---------+--------------------------+-----------------+--------------+----------------+-----------+\n",
      "| \u001b[92m1\u001b[0m       | \u001b[92mInformative\u001b[0m              |           \u001b[92m85.56\u001b[0m |        \u001b[92m59.81\u001b[0m |          \u001b[92m70.4\u001b[0m  | \u001b[92m1030\u001b[0m      |\n",
      "+---------+--------------------------+-----------------+--------------+----------------+-----------+\n",
      "| \u001b[92m\u001b[0m        | \u001b[92mOverall accuracy: 66.23%\u001b[0m |           \u001b[92m73.59\u001b[0m |        \u001b[92m66.23\u001b[0m |          \u001b[92m67.21\u001b[0m | \u001b[92m—\u001b[0m         |\n",
      "+---------+--------------------------+-----------------+--------------+----------------+-----------+\n"
     ]
    }
   ],
   "source": [
    "model_results = [\n",
    "    (\"Zeroshot Text Only  - Llama\", \"test_results/informative/Test-23/Llama-3.2-11B-Info-Zeroshot-Text-Only.json\", \"red\", False),\n",
    "    (\"Oneshot Text Only  - Llama\", \"test_results/informative/Test-23/Llama-3.2-11B-Info-Oneshot-Text-Only.json\", \"green\", False),\n",
    "    (\"Fiveshot Text Only  - Llama\", \"test_results/informative/Test-23/Llama-3.2-11B-Info-Fiveshot-Text-Only.json\", \"blue\", True),\n",
    "   \n",
    "    (\"Zeroshot Image Only  - Llama\", \"test_results/informative/Test-23/Llama-3.2-11B-Info-Zeroshot-Image-Only.json\", \"red\", False),\n",
    "    (\"Oneshot Image Only   - Llama\", \"test_results/informative/Test-23/Llama-3.2-11B-Info-Oneshot-Image-Only.json\", \"green\", True),\n",
    "\n",
    "    (\"Zeroshot Text Image  - Llama\", \"test_results/informative/Test-23/Llama-3.2-11B-Info-Zeroshot-Text-Image.json\", \"red\", False),\n",
    "    (\"Oneshot Text Image   - Llama\", \"test_results/informative/Test-23/Llama-3.2-11B-Info-Oneshot-Text-Image.json\", \"green\", False)\n",
    "]\n",
    "\n",
    "calculate_metrics_with_category_breakdown(model_results, task=\"LLama Zeroshot & Fewshot - Informative\")"
   ]
  },
  {
   "cell_type": "markdown",
   "id": "3f9ce790-41b9-4672-82cd-7875d13d014c",
   "metadata": {},
   "source": [
    "# GPT FEW-SHOTS - INFORMATIVE"
   ]
  },
  {
   "cell_type": "code",
   "execution_count": 33,
   "id": "1c18ccc4-b100-47e9-92c3-027d9efe7bc9",
   "metadata": {},
   "outputs": [
    {
     "data": {
      "text/markdown": [
       "📊 **GPT Zeroshot & Fewshot - Informative — Overall Performance Summary**"
      ],
      "text/plain": [
       "<IPython.core.display.Markdown object>"
      ]
     },
     "metadata": {},
     "output_type": "display_data"
    },
    {
     "name": "stdout",
     "output_type": "stream",
     "text": [
      "+-------------------------------+----------------+-----------------+--------------+----------------+\n",
      "| Model                         |   Accuracy (%) |   Precision (%) |   Recall (%) |   F1 Score (%) |\n",
      "+===============================+================+=================+==============+================+\n",
      "| \u001b[91mZeroshot Text Only  - 4o\u001b[0m      |          \u001b[91m79.47\u001b[0m |           \u001b[91m81.38\u001b[0m |        \u001b[91m79.47\u001b[0m |          \u001b[91m79.93\u001b[0m |\n",
      "+-------------------------------+----------------+-----------------+--------------+----------------+\n",
      "| \u001b[92mOneShot Text Only   - 4o\u001b[0m      |          \u001b[92m84.16\u001b[0m |           \u001b[92m83.94\u001b[0m |        \u001b[92m84.16\u001b[0m |          \u001b[92m83.99\u001b[0m |\n",
      "+-------------------------------+----------------+-----------------+--------------+----------------+\n",
      "| \u001b[91mZeroshot Image Only - 4o\u001b[0m      |          \u001b[91m85.14\u001b[0m |           \u001b[91m85.58\u001b[0m |        \u001b[91m85.14\u001b[0m |          \u001b[91m85.29\u001b[0m |\n",
      "+-------------------------------+----------------+-----------------+--------------+----------------+\n",
      "| \u001b[92mOneShot Image Only  - 4o\u001b[0m      |          \u001b[92m86.38\u001b[0m |           \u001b[92m86.38\u001b[0m |        \u001b[92m86.38\u001b[0m |          \u001b[92m86.38\u001b[0m |\n",
      "+-------------------------------+----------------+-----------------+--------------+----------------+\n",
      "| \u001b[91mZeroshot Text Image - 4o\u001b[0m      |          \u001b[91m88.07\u001b[0m |           \u001b[91m88.17\u001b[0m |        \u001b[91m88.07\u001b[0m |          \u001b[91m87.71\u001b[0m |\n",
      "+-------------------------------+----------------+-----------------+--------------+----------------+\n",
      "| \u001b[92mOneShot Text Image  - 4o\u001b[0m      |          \u001b[92m86.57\u001b[0m |           \u001b[92m87.39\u001b[0m |        \u001b[92m86.57\u001b[0m |          \u001b[92m85.81\u001b[0m |\n",
      "+-------------------------------+----------------+-----------------+--------------+----------------+\n",
      "| \u001b[91mZeroshot Text Only  - 4o mini\u001b[0m |          \u001b[91m85.98\u001b[0m |           \u001b[91m86.69\u001b[0m |        \u001b[91m85.98\u001b[0m |          \u001b[91m85.2\u001b[0m  |\n",
      "+-------------------------------+----------------+-----------------+--------------+----------------+\n",
      "| \u001b[92mOneShot Text Only   - 4o mini\u001b[0m |          \u001b[92m82.07\u001b[0m |           \u001b[92m85.42\u001b[0m |        \u001b[92m82.07\u001b[0m |          \u001b[92m79.87\u001b[0m |\n",
      "+-------------------------------+----------------+-----------------+--------------+----------------+\n",
      "| \u001b[91mZeroshot Image Only - 4o mini\u001b[0m |          \u001b[91m87.29\u001b[0m |           \u001b[91m87.21\u001b[0m |        \u001b[91m87.29\u001b[0m |          \u001b[91m87.24\u001b[0m |\n",
      "+-------------------------------+----------------+-----------------+--------------+----------------+\n",
      "| \u001b[92mOneShot Image Only  - 4o mini\u001b[0m |          \u001b[92m88.72\u001b[0m |           \u001b[92m88.91\u001b[0m |        \u001b[92m88.72\u001b[0m |          \u001b[92m88.37\u001b[0m |\n",
      "+-------------------------------+----------------+-----------------+--------------+----------------+\n",
      "| \u001b[91mZeroshot Text Image - 4o mini\u001b[0m |          \u001b[91m85.66\u001b[0m |           \u001b[91m87.33\u001b[0m |        \u001b[91m85.66\u001b[0m |          \u001b[91m84.55\u001b[0m |\n",
      "+-------------------------------+----------------+-----------------+--------------+----------------+\n",
      "| \u001b[92mOneShot Text Image  - 4o mini\u001b[0m |          \u001b[92m87.81\u001b[0m |           \u001b[92m88.55\u001b[0m |        \u001b[92m87.81\u001b[0m |          \u001b[92m87.2\u001b[0m  |\n",
      "+-------------------------------+----------------+-----------------+--------------+----------------+\n"
     ]
    },
    {
     "data": {
      "text/markdown": [
       "🗂️ **GPT Zeroshot & Fewshot - Informative — Zeroshot Text Only  - 4o Per-Category Metrics**"
      ],
      "text/plain": [
       "<IPython.core.display.Markdown object>"
      ]
     },
     "metadata": {},
     "output_type": "display_data"
    },
    {
     "name": "stdout",
     "output_type": "stream",
     "text": [
      "+---------+--------------------------+-----------------+--------------+----------------+-----------+\n",
      "| Label   | Description              |   Precision (%) |   Recall (%) |   F1 Score (%) | Support   |\n",
      "+=========+==========================+=================+==============+================+===========+\n",
      "| \u001b[91m0\u001b[0m       | \u001b[91mNot informative\u001b[0m          |           \u001b[91m65.12\u001b[0m |        \u001b[91m80.75\u001b[0m |          \u001b[91m72.1\u001b[0m  | \u001b[91m504\u001b[0m       |\n",
      "+---------+--------------------------+-----------------+--------------+----------------+-----------+\n",
      "| \u001b[91m1\u001b[0m       | \u001b[91mInformative\u001b[0m              |           \u001b[91m89.33\u001b[0m |        \u001b[91m78.83\u001b[0m |          \u001b[91m83.75\u001b[0m | \u001b[91m1030\u001b[0m      |\n",
      "+---------+--------------------------+-----------------+--------------+----------------+-----------+\n",
      "| \u001b[91m\u001b[0m        | \u001b[91mOverall accuracy: 79.47%\u001b[0m |           \u001b[91m81.38\u001b[0m |        \u001b[91m79.47\u001b[0m |          \u001b[91m79.93\u001b[0m | \u001b[91m—\u001b[0m         |\n",
      "+---------+--------------------------+-----------------+--------------+----------------+-----------+\n"
     ]
    },
    {
     "data": {
      "text/markdown": [
       "🗂️ **GPT Zeroshot & Fewshot - Informative — OneShot Text Only   - 4o Per-Category Metrics**"
      ],
      "text/plain": [
       "<IPython.core.display.Markdown object>"
      ]
     },
     "metadata": {},
     "output_type": "display_data"
    },
    {
     "name": "stdout",
     "output_type": "stream",
     "text": [
      "+---------+--------------------------+-----------------+--------------+----------------+-----------+\n",
      "| Label   | Description              |   Precision (%) |   Recall (%) |   F1 Score (%) | Support   |\n",
      "+=========+==========================+=================+==============+================+===========+\n",
      "| \u001b[92m0\u001b[0m       | \u001b[92mNot informative\u001b[0m          |           \u001b[92m78.06\u001b[0m |        \u001b[92m72.02\u001b[0m |          \u001b[92m74.92\u001b[0m | \u001b[92m504\u001b[0m       |\n",
      "+---------+--------------------------+-----------------+--------------+----------------+-----------+\n",
      "| \u001b[92m1\u001b[0m       | \u001b[92mInformative\u001b[0m              |           \u001b[92m86.81\u001b[0m |        \u001b[92m90.1\u001b[0m  |          \u001b[92m88.42\u001b[0m | \u001b[92m1030\u001b[0m      |\n",
      "+---------+--------------------------+-----------------+--------------+----------------+-----------+\n",
      "| \u001b[92m\u001b[0m        | \u001b[92mOverall accuracy: 84.16%\u001b[0m |           \u001b[92m83.94\u001b[0m |        \u001b[92m84.16\u001b[0m |          \u001b[92m83.99\u001b[0m | \u001b[92m—\u001b[0m         |\n",
      "+---------+--------------------------+-----------------+--------------+----------------+-----------+\n",
      "\n",
      "================================================================================\n",
      "\n"
     ]
    },
    {
     "data": {
      "text/markdown": [
       "🗂️ **GPT Zeroshot & Fewshot - Informative — Zeroshot Image Only - 4o Per-Category Metrics**"
      ],
      "text/plain": [
       "<IPython.core.display.Markdown object>"
      ]
     },
     "metadata": {},
     "output_type": "display_data"
    },
    {
     "name": "stdout",
     "output_type": "stream",
     "text": [
      "+---------+--------------------------+-----------------+--------------+----------------+-----------+\n",
      "| Label   | Description              |   Precision (%) |   Recall (%) |   F1 Score (%) | Support   |\n",
      "+=========+==========================+=================+==============+================+===========+\n",
      "| \u001b[91m0\u001b[0m       | \u001b[91mNot informative\u001b[0m          |           \u001b[91m75.18\u001b[0m |        \u001b[91m81.75\u001b[0m |          \u001b[91m78.33\u001b[0m | \u001b[91m504\u001b[0m       |\n",
      "+---------+--------------------------+-----------------+--------------+----------------+-----------+\n",
      "| \u001b[91m1\u001b[0m       | \u001b[91mInformative\u001b[0m              |           \u001b[91m90.67\u001b[0m |        \u001b[91m86.8\u001b[0m  |          \u001b[91m88.69\u001b[0m | \u001b[91m1030\u001b[0m      |\n",
      "+---------+--------------------------+-----------------+--------------+----------------+-----------+\n",
      "| \u001b[91m\u001b[0m        | \u001b[91mOverall accuracy: 85.14%\u001b[0m |           \u001b[91m85.58\u001b[0m |        \u001b[91m85.14\u001b[0m |          \u001b[91m85.29\u001b[0m | \u001b[91m—\u001b[0m         |\n",
      "+---------+--------------------------+-----------------+--------------+----------------+-----------+\n"
     ]
    },
    {
     "data": {
      "text/markdown": [
       "🗂️ **GPT Zeroshot & Fewshot - Informative — OneShot Image Only  - 4o Per-Category Metrics**"
      ],
      "text/plain": [
       "<IPython.core.display.Markdown object>"
      ]
     },
     "metadata": {},
     "output_type": "display_data"
    },
    {
     "name": "stdout",
     "output_type": "stream",
     "text": [
      "+---------+--------------------------+-----------------+--------------+----------------+-----------+\n",
      "| Label   | Description              |   Precision (%) |   Recall (%) |   F1 Score (%) | Support   |\n",
      "+=========+==========================+=================+==============+================+===========+\n",
      "| \u001b[92m0\u001b[0m       | \u001b[92mNot informative\u001b[0m          |           \u001b[92m79.21\u001b[0m |        \u001b[92m79.37\u001b[0m |          \u001b[92m79.29\u001b[0m | \u001b[92m504\u001b[0m       |\n",
      "+---------+--------------------------+-----------------+--------------+----------------+-----------+\n",
      "| \u001b[92m1\u001b[0m       | \u001b[92mInformative\u001b[0m              |           \u001b[92m89.89\u001b[0m |        \u001b[92m89.81\u001b[0m |          \u001b[92m89.85\u001b[0m | \u001b[92m1030\u001b[0m      |\n",
      "+---------+--------------------------+-----------------+--------------+----------------+-----------+\n",
      "| \u001b[92m\u001b[0m        | \u001b[92mOverall accuracy: 86.38%\u001b[0m |           \u001b[92m86.38\u001b[0m |        \u001b[92m86.38\u001b[0m |          \u001b[92m86.38\u001b[0m | \u001b[92m—\u001b[0m         |\n",
      "+---------+--------------------------+-----------------+--------------+----------------+-----------+\n",
      "\n",
      "================================================================================\n",
      "\n"
     ]
    },
    {
     "data": {
      "text/markdown": [
       "🗂️ **GPT Zeroshot & Fewshot - Informative — Zeroshot Text Image - 4o Per-Category Metrics**"
      ],
      "text/plain": [
       "<IPython.core.display.Markdown object>"
      ]
     },
     "metadata": {},
     "output_type": "display_data"
    },
    {
     "name": "stdout",
     "output_type": "stream",
     "text": [
      "+---------+--------------------------+-----------------+--------------+----------------+-----------+\n",
      "| Label   | Description              |   Precision (%) |   Recall (%) |   F1 Score (%) | Support   |\n",
      "+=========+==========================+=================+==============+================+===========+\n",
      "| \u001b[91m0\u001b[0m       | \u001b[91mNot informative\u001b[0m          |           \u001b[91m89.24\u001b[0m |        \u001b[91m72.42\u001b[0m |          \u001b[91m79.96\u001b[0m | \u001b[91m504\u001b[0m       |\n",
      "+---------+--------------------------+-----------------+--------------+----------------+-----------+\n",
      "| \u001b[91m1\u001b[0m       | \u001b[91mInformative\u001b[0m              |           \u001b[91m87.64\u001b[0m |        \u001b[91m95.73\u001b[0m |          \u001b[91m91.51\u001b[0m | \u001b[91m1030\u001b[0m      |\n",
      "+---------+--------------------------+-----------------+--------------+----------------+-----------+\n",
      "| \u001b[91m\u001b[0m        | \u001b[91mOverall accuracy: 88.07%\u001b[0m |           \u001b[91m88.17\u001b[0m |        \u001b[91m88.07\u001b[0m |          \u001b[91m87.71\u001b[0m | \u001b[91m—\u001b[0m         |\n",
      "+---------+--------------------------+-----------------+--------------+----------------+-----------+\n"
     ]
    },
    {
     "data": {
      "text/markdown": [
       "🗂️ **GPT Zeroshot & Fewshot - Informative — OneShot Text Image  - 4o Per-Category Metrics**"
      ],
      "text/plain": [
       "<IPython.core.display.Markdown object>"
      ]
     },
     "metadata": {},
     "output_type": "display_data"
    },
    {
     "name": "stdout",
     "output_type": "stream",
     "text": [
      "+---------+--------------------------+-----------------+--------------+----------------+-----------+\n",
      "| Label   | Description              |   Precision (%) |   Recall (%) |   F1 Score (%) | Support   |\n",
      "+=========+==========================+=================+==============+================+===========+\n",
      "| \u001b[92m0\u001b[0m       | \u001b[92mNot informative\u001b[0m          |           \u001b[92m92.82\u001b[0m |        \u001b[92m64.09\u001b[0m |          \u001b[92m75.82\u001b[0m | \u001b[92m504\u001b[0m       |\n",
      "+---------+--------------------------+-----------------+--------------+----------------+-----------+\n",
      "| \u001b[92m1\u001b[0m       | \u001b[92mInformative\u001b[0m              |           \u001b[92m84.74\u001b[0m |        \u001b[92m97.57\u001b[0m |          \u001b[92m90.7\u001b[0m  | \u001b[92m1030\u001b[0m      |\n",
      "+---------+--------------------------+-----------------+--------------+----------------+-----------+\n",
      "| \u001b[92m\u001b[0m        | \u001b[92mOverall accuracy: 86.57%\u001b[0m |           \u001b[92m87.39\u001b[0m |        \u001b[92m86.57\u001b[0m |          \u001b[92m85.81\u001b[0m | \u001b[92m—\u001b[0m         |\n",
      "+---------+--------------------------+-----------------+--------------+----------------+-----------+\n",
      "\n",
      "================================================================================\n",
      "\n"
     ]
    },
    {
     "data": {
      "text/markdown": [
       "🗂️ **GPT Zeroshot & Fewshot - Informative — Zeroshot Text Only  - 4o mini Per-Category Metrics**"
      ],
      "text/plain": [
       "<IPython.core.display.Markdown object>"
      ]
     },
     "metadata": {},
     "output_type": "display_data"
    },
    {
     "name": "stdout",
     "output_type": "stream",
     "text": [
      "+---------+--------------------------+-----------------+--------------+----------------+-----------+\n",
      "| Label   | Description              |   Precision (%) |   Recall (%) |   F1 Score (%) | Support   |\n",
      "+=========+==========================+=================+==============+================+===========+\n",
      "| \u001b[91m0\u001b[0m       | \u001b[91mNot informative\u001b[0m          |           \u001b[91m91.4\u001b[0m  |        \u001b[91m63.29\u001b[0m |          \u001b[91m74.79\u001b[0m | \u001b[91m504\u001b[0m       |\n",
      "+---------+--------------------------+-----------------+--------------+----------------+-----------+\n",
      "| \u001b[91m1\u001b[0m       | \u001b[91mInformative\u001b[0m              |           \u001b[91m84.39\u001b[0m |        \u001b[91m97.09\u001b[0m |          \u001b[91m90.29\u001b[0m | \u001b[91m1030\u001b[0m      |\n",
      "+---------+--------------------------+-----------------+--------------+----------------+-----------+\n",
      "| \u001b[91m\u001b[0m        | \u001b[91mOverall accuracy: 85.98%\u001b[0m |           \u001b[91m86.69\u001b[0m |        \u001b[91m85.98\u001b[0m |          \u001b[91m85.2\u001b[0m  | \u001b[91m—\u001b[0m         |\n",
      "+---------+--------------------------+-----------------+--------------+----------------+-----------+\n"
     ]
    },
    {
     "data": {
      "text/markdown": [
       "🗂️ **GPT Zeroshot & Fewshot - Informative — OneShot Text Only   - 4o mini Per-Category Metrics**"
      ],
      "text/plain": [
       "<IPython.core.display.Markdown object>"
      ]
     },
     "metadata": {},
     "output_type": "display_data"
    },
    {
     "name": "stdout",
     "output_type": "stream",
     "text": [
      "+---------+--------------------------+-----------------+--------------+----------------+-----------+\n",
      "| Label   | Description              |   Precision (%) |   Recall (%) |   F1 Score (%) | Support   |\n",
      "+=========+==========================+=================+==============+================+===========+\n",
      "| \u001b[92m0\u001b[0m       | \u001b[92mNot informative\u001b[0m          |           \u001b[92m98.31\u001b[0m |        \u001b[92m46.23\u001b[0m |          \u001b[92m62.89\u001b[0m | \u001b[92m504\u001b[0m       |\n",
      "+---------+--------------------------+-----------------+--------------+----------------+-----------+\n",
      "| \u001b[92m1\u001b[0m       | \u001b[92mInformative\u001b[0m              |           \u001b[92m79.11\u001b[0m |        \u001b[92m99.61\u001b[0m |          \u001b[92m88.18\u001b[0m | \u001b[92m1030\u001b[0m      |\n",
      "+---------+--------------------------+-----------------+--------------+----------------+-----------+\n",
      "| \u001b[92m\u001b[0m        | \u001b[92mOverall accuracy: 82.07%\u001b[0m |           \u001b[92m85.42\u001b[0m |        \u001b[92m82.07\u001b[0m |          \u001b[92m79.87\u001b[0m | \u001b[92m—\u001b[0m         |\n",
      "+---------+--------------------------+-----------------+--------------+----------------+-----------+\n",
      "\n",
      "================================================================================\n",
      "\n"
     ]
    },
    {
     "data": {
      "text/markdown": [
       "🗂️ **GPT Zeroshot & Fewshot - Informative — Zeroshot Image Only - 4o mini Per-Category Metrics**"
      ],
      "text/plain": [
       "<IPython.core.display.Markdown object>"
      ]
     },
     "metadata": {},
     "output_type": "display_data"
    },
    {
     "name": "stdout",
     "output_type": "stream",
     "text": [
      "+---------+--------------------------+-----------------+--------------+----------------+-----------+\n",
      "| Label   | Description              |   Precision (%) |   Recall (%) |   F1 Score (%) | Support   |\n",
      "+=========+==========================+=================+==============+================+===========+\n",
      "| \u001b[91m0\u001b[0m       | \u001b[91mNot informative\u001b[0m          |           \u001b[91m81.6\u001b[0m  |        \u001b[91m79.17\u001b[0m |          \u001b[91m80.36\u001b[0m | \u001b[91m504\u001b[0m       |\n",
      "+---------+--------------------------+-----------------+--------------+----------------+-----------+\n",
      "| \u001b[91m1\u001b[0m       | \u001b[91mInformative\u001b[0m              |           \u001b[91m89.95\u001b[0m |        \u001b[91m91.26\u001b[0m |          \u001b[91m90.6\u001b[0m  | \u001b[91m1030\u001b[0m      |\n",
      "+---------+--------------------------+-----------------+--------------+----------------+-----------+\n",
      "| \u001b[91m\u001b[0m        | \u001b[91mOverall accuracy: 87.29%\u001b[0m |           \u001b[91m87.21\u001b[0m |        \u001b[91m87.29\u001b[0m |          \u001b[91m87.24\u001b[0m | \u001b[91m—\u001b[0m         |\n",
      "+---------+--------------------------+-----------------+--------------+----------------+-----------+\n"
     ]
    },
    {
     "data": {
      "text/markdown": [
       "🗂️ **GPT Zeroshot & Fewshot - Informative — OneShot Image Only  - 4o mini Per-Category Metrics**"
      ],
      "text/plain": [
       "<IPython.core.display.Markdown object>"
      ]
     },
     "metadata": {},
     "output_type": "display_data"
    },
    {
     "name": "stdout",
     "output_type": "stream",
     "text": [
      "+---------+--------------------------+-----------------+--------------+----------------+-----------+\n",
      "| Label   | Description              |   Precision (%) |   Recall (%) |   F1 Score (%) | Support   |\n",
      "+=========+==========================+=================+==============+================+===========+\n",
      "| \u001b[92m0\u001b[0m       | \u001b[92mNot informative\u001b[0m          |           \u001b[92m90.86\u001b[0m |        \u001b[92m73.02\u001b[0m |          \u001b[92m80.97\u001b[0m | \u001b[92m504\u001b[0m       |\n",
      "+---------+--------------------------+-----------------+--------------+----------------+-----------+\n",
      "| \u001b[92m1\u001b[0m       | \u001b[92mInformative\u001b[0m              |           \u001b[92m87.95\u001b[0m |        \u001b[92m96.41\u001b[0m |          \u001b[92m91.99\u001b[0m | \u001b[92m1030\u001b[0m      |\n",
      "+---------+--------------------------+-----------------+--------------+----------------+-----------+\n",
      "| \u001b[92m\u001b[0m        | \u001b[92mOverall accuracy: 88.72%\u001b[0m |           \u001b[92m88.91\u001b[0m |        \u001b[92m88.72\u001b[0m |          \u001b[92m88.37\u001b[0m | \u001b[92m—\u001b[0m         |\n",
      "+---------+--------------------------+-----------------+--------------+----------------+-----------+\n",
      "\n",
      "================================================================================\n",
      "\n"
     ]
    },
    {
     "data": {
      "text/markdown": [
       "🗂️ **GPT Zeroshot & Fewshot - Informative — Zeroshot Text Image - 4o mini Per-Category Metrics**"
      ],
      "text/plain": [
       "<IPython.core.display.Markdown object>"
      ]
     },
     "metadata": {},
     "output_type": "display_data"
    },
    {
     "name": "stdout",
     "output_type": "stream",
     "text": [
      "+---------+--------------------------+-----------------+--------------+----------------+-----------+\n",
      "| Label   | Description              |   Precision (%) |   Recall (%) |   F1 Score (%) | Support   |\n",
      "+=========+==========================+=================+==============+================+===========+\n",
      "| \u001b[91m0\u001b[0m       | \u001b[91mNot informative\u001b[0m          |           \u001b[91m96.1\u001b[0m  |        \u001b[91m58.73\u001b[0m |          \u001b[91m72.91\u001b[0m | \u001b[91m504\u001b[0m       |\n",
      "+---------+--------------------------+-----------------+--------------+----------------+-----------+\n",
      "| \u001b[91m1\u001b[0m       | \u001b[91mInformative\u001b[0m              |           \u001b[91m83.03\u001b[0m |        \u001b[91m98.83\u001b[0m |          \u001b[91m90.25\u001b[0m | \u001b[91m1030\u001b[0m      |\n",
      "+---------+--------------------------+-----------------+--------------+----------------+-----------+\n",
      "| \u001b[91m\u001b[0m        | \u001b[91mOverall accuracy: 85.66%\u001b[0m |           \u001b[91m87.33\u001b[0m |        \u001b[91m85.66\u001b[0m |          \u001b[91m84.55\u001b[0m | \u001b[91m—\u001b[0m         |\n",
      "+---------+--------------------------+-----------------+--------------+----------------+-----------+\n"
     ]
    },
    {
     "data": {
      "text/markdown": [
       "🗂️ **GPT Zeroshot & Fewshot - Informative — OneShot Text Image  - 4o mini Per-Category Metrics**"
      ],
      "text/plain": [
       "<IPython.core.display.Markdown object>"
      ]
     },
     "metadata": {},
     "output_type": "display_data"
    },
    {
     "name": "stdout",
     "output_type": "stream",
     "text": [
      "+---------+--------------------------+-----------------+--------------+----------------+-----------+\n",
      "| Label   | Description              |   Precision (%) |   Recall (%) |   F1 Score (%) | Support   |\n",
      "+=========+==========================+=================+==============+================+===========+\n",
      "| \u001b[92m0\u001b[0m       | \u001b[92mNot informative\u001b[0m          |           \u001b[92m93.91\u001b[0m |        \u001b[92m67.26\u001b[0m |          \u001b[92m78.38\u001b[0m | \u001b[92m504\u001b[0m       |\n",
      "+---------+--------------------------+-----------------+--------------+----------------+-----------+\n",
      "| \u001b[92m1\u001b[0m       | \u001b[92mInformative\u001b[0m              |           \u001b[92m85.93\u001b[0m |        \u001b[92m97.86\u001b[0m |          \u001b[92m91.51\u001b[0m | \u001b[92m1030\u001b[0m      |\n",
      "+---------+--------------------------+-----------------+--------------+----------------+-----------+\n",
      "| \u001b[92m\u001b[0m        | \u001b[92mOverall accuracy: 87.81%\u001b[0m |           \u001b[92m88.55\u001b[0m |        \u001b[92m87.81\u001b[0m |          \u001b[92m87.2\u001b[0m  | \u001b[92m—\u001b[0m         |\n",
      "+---------+--------------------------+-----------------+--------------+----------------+-----------+\n"
     ]
    }
   ],
   "source": [
    "model_results = [\n",
    "    (\"Zeroshot Text Only  - 4o\", \"test_results/informative/Test-23/gpt-4o-Info-Zeroshot-Text-Only.json\", \"red\", False),\n",
    "    (\"OneShot Text Only   - 4o\", \"test_results/informative/Test-23/gpt-4o-Info-OneShot-Text-Only.json\", \"green\", True),\n",
    "\n",
    "    (\"Zeroshot Image Only - 4o\", \"test_results/informative/Test-23/gpt-4o-Info-Zeroshot-Image-Only.json\", \"red\", False),\n",
    "    (\"OneShot Image Only  - 4o\", \"test_results/informative/Test-23/gpt-4o-Info-Oneshot-Image-Only.json\", \"green\", True),       \n",
    "    \n",
    "    (\"Zeroshot Text Image - 4o\", \"test_results/informative/Test-23/gpt-4o-Info-Zeroshot-Text-Image.json\", \"red\", False),\n",
    "    (\"OneShot Text Image  - 4o\", \"test_results/informative/Test-23/gpt-4o-Info-Oneshot-Text-Image.json\", \"green\", True),\n",
    "      \n",
    "    (\"Zeroshot Text Only  - 4o mini\", \"test_results/informative/Test-23/gpt-4o-mini-Info-Zeroshot-Text-Only.json\", \"red\", False),\n",
    "    (\"OneShot Text Only   - 4o mini\", \"test_results/informative/Test-23/gpt-4o-mini-Info-Oneshot-Text-Only.json\", \"green\", True),\n",
    "    \n",
    "    (\"Zeroshot Image Only - 4o mini\", \"test_results/informative/Test-23/gpt-4o-mini-Info-Zeroshot-Image-Only.json\", \"red\", False),\n",
    "    (\"OneShot Image Only  - 4o mini\", \"test_results/informative/Test-23/gpt-4o-mini-Info-Oneshot-Image-Only.json\", \"green\", True),\n",
    "    \n",
    "    (\"Zeroshot Text Image - 4o mini\", \"test_results/informative/Test-23/gpt-4o-mini-Info-Zeroshot-Text-Image.json\", \"red\", False),\n",
    "    (\"OneShot Text Image  - 4o mini\", \"test_results/informative/Test-23/gpt-4o-mini-Info-Oneshot-Text-Image.json\", \"green\", False),   \n",
    "]\n",
    "\n",
    "calculate_metrics_with_category_breakdown(model_results, task=\"GPT Zeroshot & Fewshot - Informative\")"
   ]
  }
 ],
 "metadata": {
  "kernelspec": {
   "display_name": "Python 3 (ipykernel)",
   "language": "python",
   "name": "python3"
  },
  "language_info": {
   "codemirror_mode": {
    "name": "ipython",
    "version": 3
   },
   "file_extension": ".py",
   "mimetype": "text/x-python",
   "name": "python",
   "nbconvert_exporter": "python",
   "pygments_lexer": "ipython3",
   "version": "3.12.8"
  }
 },
 "nbformat": 4,
 "nbformat_minor": 5
}
